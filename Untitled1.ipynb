{
 "cells": [
  {
   "cell_type": "code",
   "execution_count": 1,
   "metadata": {},
   "outputs": [],
   "source": [
    "import pandas as pd\n",
    "import matplotlib.pyplot as plt\n",
    "import numpy as np\n",
    "import seaborn as sns\n",
    "sns.set_style('darkgrid')\n",
    "\n",
    "from statsmodels.formula.api import ols\n",
    "from statsmodels.stats.outliers_influence import variance_inflation_factor\n",
    "import statsmodels.api as sm\n",
    "import scipy.stats as stats\n",
    "from sklearn.model_selection import train_test_split"
   ]
  },
  {
   "cell_type": "code",
   "execution_count": 2,
   "metadata": {},
   "outputs": [],
   "source": [
    "df=pd.read_csv('data/kc_cleaned_data.csv')"
   ]
  },
  {
   "cell_type": "code",
   "execution_count": 3,
   "metadata": {},
   "outputs": [],
   "source": [
    "df.drop(columns=['id', 'date', 'bedrooms', 'bathrooms', 'sqft_living',\n",
    "       'sqft_lot', 'floors',  'condition','sqft_above', 'sqft_basement', \n",
    "        'yr_built', 'yr_renovated', 'zipcode',\n",
    "       'lat', 'long', 'sqft_living15', 'sqft_lot15',], inplace=True)"
   ]
  },
  {
   "cell_type": "code",
   "execution_count": 4,
   "metadata": {},
   "outputs": [
    {
     "data": {
      "text/html": [
       "<div>\n",
       "<style scoped>\n",
       "    .dataframe tbody tr th:only-of-type {\n",
       "        vertical-align: middle;\n",
       "    }\n",
       "\n",
       "    .dataframe tbody tr th {\n",
       "        vertical-align: top;\n",
       "    }\n",
       "\n",
       "    .dataframe thead th {\n",
       "        text-align: right;\n",
       "    }\n",
       "</style>\n",
       "<table border=\"1\" class=\"dataframe\">\n",
       "  <thead>\n",
       "    <tr style=\"text-align: right;\">\n",
       "      <th></th>\n",
       "      <th>price</th>\n",
       "      <th>waterfront</th>\n",
       "      <th>view</th>\n",
       "      <th>grade</th>\n",
       "      <th>has_basement</th>\n",
       "      <th>is_cust_build</th>\n",
       "      <th>years_since_renovated</th>\n",
       "    </tr>\n",
       "  </thead>\n",
       "  <tbody>\n",
       "    <tr>\n",
       "      <th>0</th>\n",
       "      <td>221900.0</td>\n",
       "      <td>0.0</td>\n",
       "      <td>0.0</td>\n",
       "      <td>7</td>\n",
       "      <td>0</td>\n",
       "      <td>0</td>\n",
       "      <td>0.0</td>\n",
       "    </tr>\n",
       "    <tr>\n",
       "      <th>1</th>\n",
       "      <td>538000.0</td>\n",
       "      <td>0.0</td>\n",
       "      <td>0.0</td>\n",
       "      <td>7</td>\n",
       "      <td>1</td>\n",
       "      <td>0</td>\n",
       "      <td>29.0</td>\n",
       "    </tr>\n",
       "    <tr>\n",
       "      <th>2</th>\n",
       "      <td>180000.0</td>\n",
       "      <td>0.0</td>\n",
       "      <td>0.0</td>\n",
       "      <td>6</td>\n",
       "      <td>0</td>\n",
       "      <td>0</td>\n",
       "      <td>0.0</td>\n",
       "    </tr>\n",
       "    <tr>\n",
       "      <th>3</th>\n",
       "      <td>604000.0</td>\n",
       "      <td>0.0</td>\n",
       "      <td>0.0</td>\n",
       "      <td>7</td>\n",
       "      <td>1</td>\n",
       "      <td>0</td>\n",
       "      <td>0.0</td>\n",
       "    </tr>\n",
       "    <tr>\n",
       "      <th>4</th>\n",
       "      <td>510000.0</td>\n",
       "      <td>0.0</td>\n",
       "      <td>0.0</td>\n",
       "      <td>8</td>\n",
       "      <td>0</td>\n",
       "      <td>0</td>\n",
       "      <td>0.0</td>\n",
       "    </tr>\n",
       "  </tbody>\n",
       "</table>\n",
       "</div>"
      ],
      "text/plain": [
       "      price  waterfront  view  grade  has_basement  is_cust_build  \\\n",
       "0  221900.0         0.0   0.0      7             0              0   \n",
       "1  538000.0         0.0   0.0      7             1              0   \n",
       "2  180000.0         0.0   0.0      6             0              0   \n",
       "3  604000.0         0.0   0.0      7             1              0   \n",
       "4  510000.0         0.0   0.0      8             0              0   \n",
       "\n",
       "   years_since_renovated  \n",
       "0                    0.0  \n",
       "1                   29.0  \n",
       "2                    0.0  \n",
       "3                    0.0  \n",
       "4                    0.0  "
      ]
     },
     "execution_count": 4,
     "metadata": {},
     "output_type": "execute_result"
    }
   ],
   "source": [
    "df.head()"
   ]
  },
  {
   "cell_type": "code",
   "execution_count": null,
   "metadata": {},
   "outputs": [],
   "source": [
    "outcome = 'price'\n",
    "x_cols = ['view', 'waterfront', 'has_basement', 'years_since_renovated', 'grade']\n",
    "predictors = '+'.join(x_cols)\n",
    "formula = outcome + '~' + predictors\n",
    "model = ols(formula=formula, data=df).fit()\n",
    "model.summary()"
   ]
  },
  {
   "cell_type": "code",
   "execution_count": 6,
   "metadata": {},
   "outputs": [
    {
     "data": {
      "text/plain": [
       "[('view', 1.3507565775678645),\n",
       " ('waterfront', 1.1835839873596314),\n",
       " ('has_basement', 1.6636772912133575),\n",
       " ('is_cust_build', 1.0263826597148695),\n",
       " ('years_since_renovated', 1.0342041245382976),\n",
       " ('grade', 1.6963546479999723)]"
      ]
     },
     "execution_count": 6,
     "metadata": {},
     "output_type": "execute_result"
    }
   ],
   "source": [
    "X = df[x_cols]\n",
    "vif = [variance_inflation_factor(X.values, i) for i in range(X.shape[1])]\n",
    "list(zip(x_cols, vif))"
   ]
  },
  {
   "cell_type": "markdown",
   "metadata": {},
   "source": [
    "# Stats Code"
   ]
  },
  {
   "cell_type": "code",
   "execution_count": 7,
   "metadata": {},
   "outputs": [],
   "source": [
    "train, test = train_test_split(df)"
   ]
  },
  {
   "cell_type": "code",
   "execution_count": 8,
   "metadata": {},
   "outputs": [
    {
     "name": "stdout",
     "output_type": "stream",
     "text": [
      "16197 5400\n"
     ]
    },
    {
     "data": {
      "text/html": [
       "<div>\n",
       "<style scoped>\n",
       "    .dataframe tbody tr th:only-of-type {\n",
       "        vertical-align: middle;\n",
       "    }\n",
       "\n",
       "    .dataframe tbody tr th {\n",
       "        vertical-align: top;\n",
       "    }\n",
       "\n",
       "    .dataframe thead th {\n",
       "        text-align: right;\n",
       "    }\n",
       "</style>\n",
       "<table border=\"1\" class=\"dataframe\">\n",
       "  <thead>\n",
       "    <tr style=\"text-align: right;\">\n",
       "      <th></th>\n",
       "      <th>price</th>\n",
       "      <th>waterfront</th>\n",
       "      <th>view</th>\n",
       "      <th>grade</th>\n",
       "      <th>has_basement</th>\n",
       "      <th>is_cust_build</th>\n",
       "      <th>years_since_renovated</th>\n",
       "    </tr>\n",
       "  </thead>\n",
       "  <tbody>\n",
       "    <tr>\n",
       "      <th>3242</th>\n",
       "      <td>658600.0</td>\n",
       "      <td>0.0</td>\n",
       "      <td>0.0</td>\n",
       "      <td>7</td>\n",
       "      <td>0</td>\n",
       "      <td>0</td>\n",
       "      <td>0.0</td>\n",
       "    </tr>\n",
       "    <tr>\n",
       "      <th>352</th>\n",
       "      <td>315000.0</td>\n",
       "      <td>0.0</td>\n",
       "      <td>0.0</td>\n",
       "      <td>7</td>\n",
       "      <td>1</td>\n",
       "      <td>0</td>\n",
       "      <td>0.0</td>\n",
       "    </tr>\n",
       "    <tr>\n",
       "      <th>21074</th>\n",
       "      <td>720000.0</td>\n",
       "      <td>0.0</td>\n",
       "      <td>0.0</td>\n",
       "      <td>9</td>\n",
       "      <td>0</td>\n",
       "      <td>0</td>\n",
       "      <td>0.0</td>\n",
       "    </tr>\n",
       "    <tr>\n",
       "      <th>15001</th>\n",
       "      <td>266000.0</td>\n",
       "      <td>0.0</td>\n",
       "      <td>0.0</td>\n",
       "      <td>8</td>\n",
       "      <td>1</td>\n",
       "      <td>0</td>\n",
       "      <td>0.0</td>\n",
       "    </tr>\n",
       "    <tr>\n",
       "      <th>12190</th>\n",
       "      <td>775000.0</td>\n",
       "      <td>0.0</td>\n",
       "      <td>3.0</td>\n",
       "      <td>9</td>\n",
       "      <td>0</td>\n",
       "      <td>0</td>\n",
       "      <td>0.0</td>\n",
       "    </tr>\n",
       "  </tbody>\n",
       "</table>\n",
       "</div>"
      ],
      "text/plain": [
       "          price  waterfront  view  grade  has_basement  is_cust_build  \\\n",
       "3242   658600.0         0.0   0.0      7             0              0   \n",
       "352    315000.0         0.0   0.0      7             1              0   \n",
       "21074  720000.0         0.0   0.0      9             0              0   \n",
       "15001  266000.0         0.0   0.0      8             1              0   \n",
       "12190  775000.0         0.0   3.0      9             0              0   \n",
       "\n",
       "       years_since_renovated  \n",
       "3242                     0.0  \n",
       "352                      0.0  \n",
       "21074                    0.0  \n",
       "15001                    0.0  \n",
       "12190                    0.0  "
      ]
     },
     "execution_count": 8,
     "metadata": {},
     "output_type": "execute_result"
    }
   ],
   "source": [
    "print(len(train), len(test))\n",
    "train.head()"
   ]
  },
  {
   "cell_type": "code",
   "execution_count": 9,
   "metadata": {},
   "outputs": [
    {
     "data": {
      "text/html": [
       "<div>\n",
       "<style scoped>\n",
       "    .dataframe tbody tr th:only-of-type {\n",
       "        vertical-align: middle;\n",
       "    }\n",
       "\n",
       "    .dataframe tbody tr th {\n",
       "        vertical-align: top;\n",
       "    }\n",
       "\n",
       "    .dataframe thead th {\n",
       "        text-align: right;\n",
       "    }\n",
       "</style>\n",
       "<table border=\"1\" class=\"dataframe\">\n",
       "  <thead>\n",
       "    <tr style=\"text-align: right;\">\n",
       "      <th></th>\n",
       "      <th>price</th>\n",
       "      <th>waterfront</th>\n",
       "      <th>view</th>\n",
       "      <th>grade</th>\n",
       "      <th>has_basement</th>\n",
       "      <th>is_cust_build</th>\n",
       "      <th>years_since_renovated</th>\n",
       "    </tr>\n",
       "  </thead>\n",
       "  <tbody>\n",
       "    <tr>\n",
       "      <th>3966</th>\n",
       "      <td>122000.0</td>\n",
       "      <td>0.0</td>\n",
       "      <td>0.0</td>\n",
       "      <td>6</td>\n",
       "      <td>0</td>\n",
       "      <td>0</td>\n",
       "      <td>0.0</td>\n",
       "    </tr>\n",
       "    <tr>\n",
       "      <th>2034</th>\n",
       "      <td>650000.0</td>\n",
       "      <td>0.0</td>\n",
       "      <td>0.0</td>\n",
       "      <td>8</td>\n",
       "      <td>1</td>\n",
       "      <td>0</td>\n",
       "      <td>0.0</td>\n",
       "    </tr>\n",
       "    <tr>\n",
       "      <th>7632</th>\n",
       "      <td>416500.0</td>\n",
       "      <td>0.0</td>\n",
       "      <td>0.0</td>\n",
       "      <td>7</td>\n",
       "      <td>0</td>\n",
       "      <td>0</td>\n",
       "      <td>0.0</td>\n",
       "    </tr>\n",
       "    <tr>\n",
       "      <th>11220</th>\n",
       "      <td>225000.0</td>\n",
       "      <td>0.0</td>\n",
       "      <td>0.0</td>\n",
       "      <td>7</td>\n",
       "      <td>0</td>\n",
       "      <td>0</td>\n",
       "      <td>0.0</td>\n",
       "    </tr>\n",
       "    <tr>\n",
       "      <th>6860</th>\n",
       "      <td>1060000.0</td>\n",
       "      <td>0.0</td>\n",
       "      <td>1.0</td>\n",
       "      <td>11</td>\n",
       "      <td>1</td>\n",
       "      <td>0</td>\n",
       "      <td>0.0</td>\n",
       "    </tr>\n",
       "  </tbody>\n",
       "</table>\n",
       "</div>"
      ],
      "text/plain": [
       "           price  waterfront  view  grade  has_basement  is_cust_build  \\\n",
       "3966    122000.0         0.0   0.0      6             0              0   \n",
       "2034    650000.0         0.0   0.0      8             1              0   \n",
       "7632    416500.0         0.0   0.0      7             0              0   \n",
       "11220   225000.0         0.0   0.0      7             0              0   \n",
       "6860   1060000.0         0.0   1.0     11             1              0   \n",
       "\n",
       "       years_since_renovated  \n",
       "3966                     0.0  \n",
       "2034                     0.0  \n",
       "7632                     0.0  \n",
       "11220                    0.0  \n",
       "6860                     0.0  "
      ]
     },
     "execution_count": 9,
     "metadata": {},
     "output_type": "execute_result"
    }
   ],
   "source": [
    "test.head()"
   ]
  },
  {
   "cell_type": "code",
   "execution_count": 10,
   "metadata": {},
   "outputs": [
    {
     "data": {
      "text/html": [
       "<table class=\"simpletable\">\n",
       "<caption>OLS Regression Results</caption>\n",
       "<tr>\n",
       "  <th>Dep. Variable:</th>          <td>price</td>      <th>  R-squared:         </th>  <td>   0.560</td>  \n",
       "</tr>\n",
       "<tr>\n",
       "  <th>Model:</th>                   <td>OLS</td>       <th>  Adj. R-squared:    </th>  <td>   0.559</td>  \n",
       "</tr>\n",
       "<tr>\n",
       "  <th>Method:</th>             <td>Least Squares</td>  <th>  F-statistic:       </th>  <td>   3429.</td>  \n",
       "</tr>\n",
       "<tr>\n",
       "  <th>Date:</th>             <td>Thu, 04 Jun 2020</td> <th>  Prob (F-statistic):</th>   <td>  0.00</td>   \n",
       "</tr>\n",
       "<tr>\n",
       "  <th>Time:</th>                 <td>13:48:52</td>     <th>  Log-Likelihood:    </th> <td>-2.2400e+05</td>\n",
       "</tr>\n",
       "<tr>\n",
       "  <th>No. Observations:</th>      <td> 16197</td>      <th>  AIC:               </th>  <td>4.480e+05</td> \n",
       "</tr>\n",
       "<tr>\n",
       "  <th>Df Residuals:</th>          <td> 16190</td>      <th>  BIC:               </th>  <td>4.481e+05</td> \n",
       "</tr>\n",
       "<tr>\n",
       "  <th>Df Model:</th>              <td>     6</td>      <th>                     </th>      <td> </td>     \n",
       "</tr>\n",
       "<tr>\n",
       "  <th>Covariance Type:</th>      <td>nonrobust</td>    <th>                     </th>      <td> </td>     \n",
       "</tr>\n",
       "</table>\n",
       "<table class=\"simpletable\">\n",
       "<tr>\n",
       "            <td></td>               <th>coef</th>     <th>std err</th>      <th>t</th>      <th>P>|t|</th>  <th>[0.025</th>    <th>0.975]</th>  \n",
       "</tr>\n",
       "<tr>\n",
       "  <th>Intercept</th>             <td>-8.864e+05</td> <td> 1.34e+04</td> <td>  -65.928</td> <td> 0.000</td> <td>-9.13e+05</td> <td> -8.6e+05</td>\n",
       "</tr>\n",
       "<tr>\n",
       "  <th>view</th>                  <td>  7.53e+04</td> <td> 2835.231</td> <td>   26.560</td> <td> 0.000</td> <td> 6.97e+04</td> <td> 8.09e+04</td>\n",
       "</tr>\n",
       "<tr>\n",
       "  <th>waterfront</th>            <td> 5.956e+05</td> <td> 2.51e+04</td> <td>   23.686</td> <td> 0.000</td> <td> 5.46e+05</td> <td> 6.45e+05</td>\n",
       "</tr>\n",
       "<tr>\n",
       "  <th>has_basement</th>          <td> 8.366e+04</td> <td> 4030.185</td> <td>   20.759</td> <td> 0.000</td> <td> 7.58e+04</td> <td> 9.16e+04</td>\n",
       "</tr>\n",
       "<tr>\n",
       "  <th>is_cust_build</th>         <td>  8.77e+05</td> <td> 2.89e+04</td> <td>   30.372</td> <td> 0.000</td> <td>  8.2e+05</td> <td> 9.34e+05</td>\n",
       "</tr>\n",
       "<tr>\n",
       "  <th>years_since_renovated</th> <td> 4208.5386</td> <td>  367.792</td> <td>   11.443</td> <td> 0.000</td> <td> 3487.625</td> <td> 4929.453</td>\n",
       "</tr>\n",
       "<tr>\n",
       "  <th>grade</th>                 <td> 1.784e+05</td> <td> 1747.443</td> <td>  102.066</td> <td> 0.000</td> <td> 1.75e+05</td> <td> 1.82e+05</td>\n",
       "</tr>\n",
       "</table>\n",
       "<table class=\"simpletable\">\n",
       "<tr>\n",
       "  <th>Omnibus:</th>       <td>12663.815</td> <th>  Durbin-Watson:     </th>  <td>   2.005</td> \n",
       "</tr>\n",
       "<tr>\n",
       "  <th>Prob(Omnibus):</th>  <td> 0.000</td>   <th>  Jarque-Bera (JB):  </th> <td>992063.724</td>\n",
       "</tr>\n",
       "<tr>\n",
       "  <th>Skew:</th>           <td> 3.177</td>   <th>  Prob(JB):          </th>  <td>    0.00</td> \n",
       "</tr>\n",
       "<tr>\n",
       "  <th>Kurtosis:</th>       <td>40.810</td>   <th>  Cond. No.          </th>  <td>    119.</td> \n",
       "</tr>\n",
       "</table><br/><br/>Warnings:<br/>[1] Standard Errors assume that the covariance matrix of the errors is correctly specified."
      ],
      "text/plain": [
       "<class 'statsmodels.iolib.summary.Summary'>\n",
       "\"\"\"\n",
       "                            OLS Regression Results                            \n",
       "==============================================================================\n",
       "Dep. Variable:                  price   R-squared:                       0.560\n",
       "Model:                            OLS   Adj. R-squared:                  0.559\n",
       "Method:                 Least Squares   F-statistic:                     3429.\n",
       "Date:                Thu, 04 Jun 2020   Prob (F-statistic):               0.00\n",
       "Time:                        13:48:52   Log-Likelihood:            -2.2400e+05\n",
       "No. Observations:               16197   AIC:                         4.480e+05\n",
       "Df Residuals:                   16190   BIC:                         4.481e+05\n",
       "Df Model:                           6                                         \n",
       "Covariance Type:            nonrobust                                         \n",
       "=========================================================================================\n",
       "                            coef    std err          t      P>|t|      [0.025      0.975]\n",
       "-----------------------------------------------------------------------------------------\n",
       "Intercept             -8.864e+05   1.34e+04    -65.928      0.000   -9.13e+05    -8.6e+05\n",
       "view                    7.53e+04   2835.231     26.560      0.000    6.97e+04    8.09e+04\n",
       "waterfront             5.956e+05   2.51e+04     23.686      0.000    5.46e+05    6.45e+05\n",
       "has_basement           8.366e+04   4030.185     20.759      0.000    7.58e+04    9.16e+04\n",
       "is_cust_build           8.77e+05   2.89e+04     30.372      0.000     8.2e+05    9.34e+05\n",
       "years_since_renovated  4208.5386    367.792     11.443      0.000    3487.625    4929.453\n",
       "grade                  1.784e+05   1747.443    102.066      0.000    1.75e+05    1.82e+05\n",
       "==============================================================================\n",
       "Omnibus:                    12663.815   Durbin-Watson:                   2.005\n",
       "Prob(Omnibus):                  0.000   Jarque-Bera (JB):           992063.724\n",
       "Skew:                           3.177   Prob(JB):                         0.00\n",
       "Kurtosis:                      40.810   Cond. No.                         119.\n",
       "==============================================================================\n",
       "\n",
       "Warnings:\n",
       "[1] Standard Errors assume that the covariance matrix of the errors is correctly specified.\n",
       "\"\"\""
      ]
     },
     "execution_count": 10,
     "metadata": {},
     "output_type": "execute_result"
    }
   ],
   "source": [
    "predictors = '+'.join(x_cols)\n",
    "formula = outcome + '~' + predictors\n",
    "model = ols(formula=formula, data=train).fit()\n",
    "model.summary()"
   ]
  },
  {
   "cell_type": "markdown",
   "metadata": {},
   "source": [
    "# Remove Uninfluential Features"
   ]
  },
  {
   "cell_type": "code",
   "execution_count": 11,
   "metadata": {},
   "outputs": [
    {
     "name": "stdout",
     "output_type": "stream",
     "text": [
      "7 6\n",
      "['view', 'waterfront', 'has_basement', 'is_cust_build', 'years_since_renovated']\n"
     ]
    },
    {
     "data": {
      "text/html": [
       "<div>\n",
       "<style scoped>\n",
       "    .dataframe tbody tr th:only-of-type {\n",
       "        vertical-align: middle;\n",
       "    }\n",
       "\n",
       "    .dataframe tbody tr th {\n",
       "        vertical-align: top;\n",
       "    }\n",
       "\n",
       "    .dataframe thead th {\n",
       "        text-align: right;\n",
       "    }\n",
       "</style>\n",
       "<table border=\"1\" class=\"dataframe\">\n",
       "  <thead>\n",
       "    <tr style=\"text-align: right;\">\n",
       "      <th></th>\n",
       "      <th>coef</th>\n",
       "      <th>std err</th>\n",
       "      <th>t</th>\n",
       "      <th>P&gt;|t|</th>\n",
       "      <th>[0.025</th>\n",
       "      <th>0.975]</th>\n",
       "    </tr>\n",
       "    <tr>\n",
       "      <th></th>\n",
       "      <th></th>\n",
       "      <th></th>\n",
       "      <th></th>\n",
       "      <th></th>\n",
       "      <th></th>\n",
       "      <th></th>\n",
       "    </tr>\n",
       "  </thead>\n",
       "  <tbody>\n",
       "    <tr>\n",
       "      <th>Intercept</th>\n",
       "      <td>-8.864e+05</td>\n",
       "      <td>1.34e+04</td>\n",
       "      <td>-65.928</td>\n",
       "      <td>0.0</td>\n",
       "      <td>-9.13e+05</td>\n",
       "      <td>-8.6e+05</td>\n",
       "    </tr>\n",
       "    <tr>\n",
       "      <th>view</th>\n",
       "      <td>7.53e+04</td>\n",
       "      <td>2835.231</td>\n",
       "      <td>26.560</td>\n",
       "      <td>0.0</td>\n",
       "      <td>6.97e+04</td>\n",
       "      <td>8.09e+04</td>\n",
       "    </tr>\n",
       "    <tr>\n",
       "      <th>waterfront</th>\n",
       "      <td>5.956e+05</td>\n",
       "      <td>2.51e+04</td>\n",
       "      <td>23.686</td>\n",
       "      <td>0.0</td>\n",
       "      <td>5.46e+05</td>\n",
       "      <td>6.45e+05</td>\n",
       "    </tr>\n",
       "    <tr>\n",
       "      <th>has_basement</th>\n",
       "      <td>8.366e+04</td>\n",
       "      <td>4030.185</td>\n",
       "      <td>20.759</td>\n",
       "      <td>0.0</td>\n",
       "      <td>7.58e+04</td>\n",
       "      <td>9.16e+04</td>\n",
       "    </tr>\n",
       "    <tr>\n",
       "      <th>is_cust_build</th>\n",
       "      <td>8.77e+05</td>\n",
       "      <td>2.89e+04</td>\n",
       "      <td>30.372</td>\n",
       "      <td>0.0</td>\n",
       "      <td>8.2e+05</td>\n",
       "      <td>9.34e+05</td>\n",
       "    </tr>\n",
       "  </tbody>\n",
       "</table>\n",
       "</div>"
      ],
      "text/plain": [
       "0                    coef    std err          t  P>|t|     [0.025     0.975]\n",
       "                                                                            \n",
       "Intercept      -8.864e+05   1.34e+04    -65.928    0.0  -9.13e+05   -8.6e+05\n",
       "view             7.53e+04   2835.231     26.560    0.0   6.97e+04   8.09e+04\n",
       "waterfront      5.956e+05   2.51e+04     23.686    0.0   5.46e+05   6.45e+05\n",
       "has_basement    8.366e+04   4030.185     20.759    0.0   7.58e+04   9.16e+04\n",
       "is_cust_build    8.77e+05   2.89e+04     30.372    0.0    8.2e+05   9.34e+05"
      ]
     },
     "execution_count": 11,
     "metadata": {},
     "output_type": "execute_result"
    }
   ],
   "source": [
    "summary = model.summary()\n",
    "p_table = summary.tables[1]\n",
    "p_table = pd.DataFrame(p_table.data)\n",
    "p_table.columns = p_table.iloc[0]\n",
    "p_table = p_table.drop(0)\n",
    "p_table = p_table.set_index(p_table.columns[0])\n",
    "p_table['P>|t|'] = p_table['P>|t|'].astype(float)\n",
    "x_cols = list(p_table[p_table['P>|t|'] < 0.05].index)\n",
    "x_cols.remove('Intercept')\n",
    "print(len(p_table), len(x_cols))\n",
    "print(x_cols[:5])\n",
    "p_table.head()"
   ]
  },
  {
   "cell_type": "code",
   "execution_count": 12,
   "metadata": {},
   "outputs": [
    {
     "data": {
      "text/html": [
       "<table class=\"simpletable\">\n",
       "<caption>OLS Regression Results</caption>\n",
       "<tr>\n",
       "  <th>Dep. Variable:</th>          <td>price</td>      <th>  R-squared:         </th>  <td>   0.560</td>  \n",
       "</tr>\n",
       "<tr>\n",
       "  <th>Model:</th>                   <td>OLS</td>       <th>  Adj. R-squared:    </th>  <td>   0.559</td>  \n",
       "</tr>\n",
       "<tr>\n",
       "  <th>Method:</th>             <td>Least Squares</td>  <th>  F-statistic:       </th>  <td>   3429.</td>  \n",
       "</tr>\n",
       "<tr>\n",
       "  <th>Date:</th>             <td>Thu, 04 Jun 2020</td> <th>  Prob (F-statistic):</th>   <td>  0.00</td>   \n",
       "</tr>\n",
       "<tr>\n",
       "  <th>Time:</th>                 <td>13:49:05</td>     <th>  Log-Likelihood:    </th> <td>-2.2400e+05</td>\n",
       "</tr>\n",
       "<tr>\n",
       "  <th>No. Observations:</th>      <td> 16197</td>      <th>  AIC:               </th>  <td>4.480e+05</td> \n",
       "</tr>\n",
       "<tr>\n",
       "  <th>Df Residuals:</th>          <td> 16190</td>      <th>  BIC:               </th>  <td>4.481e+05</td> \n",
       "</tr>\n",
       "<tr>\n",
       "  <th>Df Model:</th>              <td>     6</td>      <th>                     </th>      <td> </td>     \n",
       "</tr>\n",
       "<tr>\n",
       "  <th>Covariance Type:</th>      <td>nonrobust</td>    <th>                     </th>      <td> </td>     \n",
       "</tr>\n",
       "</table>\n",
       "<table class=\"simpletable\">\n",
       "<tr>\n",
       "            <td></td>               <th>coef</th>     <th>std err</th>      <th>t</th>      <th>P>|t|</th>  <th>[0.025</th>    <th>0.975]</th>  \n",
       "</tr>\n",
       "<tr>\n",
       "  <th>Intercept</th>             <td>-8.864e+05</td> <td> 1.34e+04</td> <td>  -65.928</td> <td> 0.000</td> <td>-9.13e+05</td> <td> -8.6e+05</td>\n",
       "</tr>\n",
       "<tr>\n",
       "  <th>view</th>                  <td>  7.53e+04</td> <td> 2835.231</td> <td>   26.560</td> <td> 0.000</td> <td> 6.97e+04</td> <td> 8.09e+04</td>\n",
       "</tr>\n",
       "<tr>\n",
       "  <th>waterfront</th>            <td> 5.956e+05</td> <td> 2.51e+04</td> <td>   23.686</td> <td> 0.000</td> <td> 5.46e+05</td> <td> 6.45e+05</td>\n",
       "</tr>\n",
       "<tr>\n",
       "  <th>has_basement</th>          <td> 8.366e+04</td> <td> 4030.185</td> <td>   20.759</td> <td> 0.000</td> <td> 7.58e+04</td> <td> 9.16e+04</td>\n",
       "</tr>\n",
       "<tr>\n",
       "  <th>is_cust_build</th>         <td>  8.77e+05</td> <td> 2.89e+04</td> <td>   30.372</td> <td> 0.000</td> <td>  8.2e+05</td> <td> 9.34e+05</td>\n",
       "</tr>\n",
       "<tr>\n",
       "  <th>years_since_renovated</th> <td> 4208.5386</td> <td>  367.792</td> <td>   11.443</td> <td> 0.000</td> <td> 3487.625</td> <td> 4929.453</td>\n",
       "</tr>\n",
       "<tr>\n",
       "  <th>grade</th>                 <td> 1.784e+05</td> <td> 1747.443</td> <td>  102.066</td> <td> 0.000</td> <td> 1.75e+05</td> <td> 1.82e+05</td>\n",
       "</tr>\n",
       "</table>\n",
       "<table class=\"simpletable\">\n",
       "<tr>\n",
       "  <th>Omnibus:</th>       <td>12663.815</td> <th>  Durbin-Watson:     </th>  <td>   2.005</td> \n",
       "</tr>\n",
       "<tr>\n",
       "  <th>Prob(Omnibus):</th>  <td> 0.000</td>   <th>  Jarque-Bera (JB):  </th> <td>992063.724</td>\n",
       "</tr>\n",
       "<tr>\n",
       "  <th>Skew:</th>           <td> 3.177</td>   <th>  Prob(JB):          </th>  <td>    0.00</td> \n",
       "</tr>\n",
       "<tr>\n",
       "  <th>Kurtosis:</th>       <td>40.810</td>   <th>  Cond. No.          </th>  <td>    119.</td> \n",
       "</tr>\n",
       "</table><br/><br/>Warnings:<br/>[1] Standard Errors assume that the covariance matrix of the errors is correctly specified."
      ],
      "text/plain": [
       "<class 'statsmodels.iolib.summary.Summary'>\n",
       "\"\"\"\n",
       "                            OLS Regression Results                            \n",
       "==============================================================================\n",
       "Dep. Variable:                  price   R-squared:                       0.560\n",
       "Model:                            OLS   Adj. R-squared:                  0.559\n",
       "Method:                 Least Squares   F-statistic:                     3429.\n",
       "Date:                Thu, 04 Jun 2020   Prob (F-statistic):               0.00\n",
       "Time:                        13:49:05   Log-Likelihood:            -2.2400e+05\n",
       "No. Observations:               16197   AIC:                         4.480e+05\n",
       "Df Residuals:                   16190   BIC:                         4.481e+05\n",
       "Df Model:                           6                                         \n",
       "Covariance Type:            nonrobust                                         \n",
       "=========================================================================================\n",
       "                            coef    std err          t      P>|t|      [0.025      0.975]\n",
       "-----------------------------------------------------------------------------------------\n",
       "Intercept             -8.864e+05   1.34e+04    -65.928      0.000   -9.13e+05    -8.6e+05\n",
       "view                    7.53e+04   2835.231     26.560      0.000    6.97e+04    8.09e+04\n",
       "waterfront             5.956e+05   2.51e+04     23.686      0.000    5.46e+05    6.45e+05\n",
       "has_basement           8.366e+04   4030.185     20.759      0.000    7.58e+04    9.16e+04\n",
       "is_cust_build           8.77e+05   2.89e+04     30.372      0.000     8.2e+05    9.34e+05\n",
       "years_since_renovated  4208.5386    367.792     11.443      0.000    3487.625    4929.453\n",
       "grade                  1.784e+05   1747.443    102.066      0.000    1.75e+05    1.82e+05\n",
       "==============================================================================\n",
       "Omnibus:                    12663.815   Durbin-Watson:                   2.005\n",
       "Prob(Omnibus):                  0.000   Jarque-Bera (JB):           992063.724\n",
       "Skew:                           3.177   Prob(JB):                         0.00\n",
       "Kurtosis:                      40.810   Cond. No.                         119.\n",
       "==============================================================================\n",
       "\n",
       "Warnings:\n",
       "[1] Standard Errors assume that the covariance matrix of the errors is correctly specified.\n",
       "\"\"\""
      ]
     },
     "execution_count": 12,
     "metadata": {},
     "output_type": "execute_result"
    }
   ],
   "source": [
    "predictors = '+'.join(x_cols)\n",
    "formula = outcome + '~' + predictors\n",
    "model = ols(formula=formula, data=train).fit()\n",
    "model.summary()"
   ]
  },
  {
   "cell_type": "code",
   "execution_count": 13,
   "metadata": {},
   "outputs": [
    {
     "name": "stdout",
     "output_type": "stream",
     "text": [
      "7 6\n",
      "['view', 'waterfront', 'has_basement', 'is_cust_build', 'years_since_renovated']\n"
     ]
    },
    {
     "data": {
      "text/html": [
       "<div>\n",
       "<style scoped>\n",
       "    .dataframe tbody tr th:only-of-type {\n",
       "        vertical-align: middle;\n",
       "    }\n",
       "\n",
       "    .dataframe tbody tr th {\n",
       "        vertical-align: top;\n",
       "    }\n",
       "\n",
       "    .dataframe thead th {\n",
       "        text-align: right;\n",
       "    }\n",
       "</style>\n",
       "<table border=\"1\" class=\"dataframe\">\n",
       "  <thead>\n",
       "    <tr style=\"text-align: right;\">\n",
       "      <th></th>\n",
       "      <th>coef</th>\n",
       "      <th>std err</th>\n",
       "      <th>t</th>\n",
       "      <th>P&gt;|t|</th>\n",
       "      <th>[0.025</th>\n",
       "      <th>0.975]</th>\n",
       "    </tr>\n",
       "    <tr>\n",
       "      <th></th>\n",
       "      <th></th>\n",
       "      <th></th>\n",
       "      <th></th>\n",
       "      <th></th>\n",
       "      <th></th>\n",
       "      <th></th>\n",
       "    </tr>\n",
       "  </thead>\n",
       "  <tbody>\n",
       "    <tr>\n",
       "      <th>Intercept</th>\n",
       "      <td>-8.864e+05</td>\n",
       "      <td>1.34e+04</td>\n",
       "      <td>-65.928</td>\n",
       "      <td>0.0</td>\n",
       "      <td>-9.13e+05</td>\n",
       "      <td>-8.6e+05</td>\n",
       "    </tr>\n",
       "    <tr>\n",
       "      <th>view</th>\n",
       "      <td>7.53e+04</td>\n",
       "      <td>2835.231</td>\n",
       "      <td>26.560</td>\n",
       "      <td>0.0</td>\n",
       "      <td>6.97e+04</td>\n",
       "      <td>8.09e+04</td>\n",
       "    </tr>\n",
       "    <tr>\n",
       "      <th>waterfront</th>\n",
       "      <td>5.956e+05</td>\n",
       "      <td>2.51e+04</td>\n",
       "      <td>23.686</td>\n",
       "      <td>0.0</td>\n",
       "      <td>5.46e+05</td>\n",
       "      <td>6.45e+05</td>\n",
       "    </tr>\n",
       "    <tr>\n",
       "      <th>has_basement</th>\n",
       "      <td>8.366e+04</td>\n",
       "      <td>4030.185</td>\n",
       "      <td>20.759</td>\n",
       "      <td>0.0</td>\n",
       "      <td>7.58e+04</td>\n",
       "      <td>9.16e+04</td>\n",
       "    </tr>\n",
       "    <tr>\n",
       "      <th>is_cust_build</th>\n",
       "      <td>8.77e+05</td>\n",
       "      <td>2.89e+04</td>\n",
       "      <td>30.372</td>\n",
       "      <td>0.0</td>\n",
       "      <td>8.2e+05</td>\n",
       "      <td>9.34e+05</td>\n",
       "    </tr>\n",
       "  </tbody>\n",
       "</table>\n",
       "</div>"
      ],
      "text/plain": [
       "0                    coef    std err          t  P>|t|     [0.025     0.975]\n",
       "                                                                            \n",
       "Intercept      -8.864e+05   1.34e+04    -65.928    0.0  -9.13e+05   -8.6e+05\n",
       "view             7.53e+04   2835.231     26.560    0.0   6.97e+04   8.09e+04\n",
       "waterfront      5.956e+05   2.51e+04     23.686    0.0   5.46e+05   6.45e+05\n",
       "has_basement    8.366e+04   4030.185     20.759    0.0   7.58e+04   9.16e+04\n",
       "is_cust_build    8.77e+05   2.89e+04     30.372    0.0    8.2e+05   9.34e+05"
      ]
     },
     "execution_count": 13,
     "metadata": {},
     "output_type": "execute_result"
    }
   ],
   "source": [
    "summary = model.summary()\n",
    "p_table = summary.tables[1]\n",
    "p_table = pd.DataFrame(p_table.data)\n",
    "p_table.columns = p_table.iloc[0]\n",
    "p_table = p_table.drop(0)\n",
    "p_table = p_table.set_index(p_table.columns[0])\n",
    "p_table['P>|t|'] = p_table['P>|t|'].astype(float)\n",
    "x_cols = list(p_table[p_table['P>|t|'] < 0.05].index)\n",
    "x_cols.remove('Intercept')\n",
    "print(len(p_table), len(x_cols))\n",
    "print(x_cols[:5])\n",
    "p_table.head()"
   ]
  },
  {
   "cell_type": "code",
   "execution_count": 14,
   "metadata": {},
   "outputs": [
    {
     "data": {
      "text/html": [
       "<table class=\"simpletable\">\n",
       "<caption>OLS Regression Results</caption>\n",
       "<tr>\n",
       "  <th>Dep. Variable:</th>          <td>price</td>      <th>  R-squared:         </th>  <td>   0.560</td>  \n",
       "</tr>\n",
       "<tr>\n",
       "  <th>Model:</th>                   <td>OLS</td>       <th>  Adj. R-squared:    </th>  <td>   0.559</td>  \n",
       "</tr>\n",
       "<tr>\n",
       "  <th>Method:</th>             <td>Least Squares</td>  <th>  F-statistic:       </th>  <td>   3429.</td>  \n",
       "</tr>\n",
       "<tr>\n",
       "  <th>Date:</th>             <td>Thu, 04 Jun 2020</td> <th>  Prob (F-statistic):</th>   <td>  0.00</td>   \n",
       "</tr>\n",
       "<tr>\n",
       "  <th>Time:</th>                 <td>13:49:11</td>     <th>  Log-Likelihood:    </th> <td>-2.2400e+05</td>\n",
       "</tr>\n",
       "<tr>\n",
       "  <th>No. Observations:</th>      <td> 16197</td>      <th>  AIC:               </th>  <td>4.480e+05</td> \n",
       "</tr>\n",
       "<tr>\n",
       "  <th>Df Residuals:</th>          <td> 16190</td>      <th>  BIC:               </th>  <td>4.481e+05</td> \n",
       "</tr>\n",
       "<tr>\n",
       "  <th>Df Model:</th>              <td>     6</td>      <th>                     </th>      <td> </td>     \n",
       "</tr>\n",
       "<tr>\n",
       "  <th>Covariance Type:</th>      <td>nonrobust</td>    <th>                     </th>      <td> </td>     \n",
       "</tr>\n",
       "</table>\n",
       "<table class=\"simpletable\">\n",
       "<tr>\n",
       "            <td></td>               <th>coef</th>     <th>std err</th>      <th>t</th>      <th>P>|t|</th>  <th>[0.025</th>    <th>0.975]</th>  \n",
       "</tr>\n",
       "<tr>\n",
       "  <th>Intercept</th>             <td>-8.864e+05</td> <td> 1.34e+04</td> <td>  -65.928</td> <td> 0.000</td> <td>-9.13e+05</td> <td> -8.6e+05</td>\n",
       "</tr>\n",
       "<tr>\n",
       "  <th>view</th>                  <td>  7.53e+04</td> <td> 2835.231</td> <td>   26.560</td> <td> 0.000</td> <td> 6.97e+04</td> <td> 8.09e+04</td>\n",
       "</tr>\n",
       "<tr>\n",
       "  <th>waterfront</th>            <td> 5.956e+05</td> <td> 2.51e+04</td> <td>   23.686</td> <td> 0.000</td> <td> 5.46e+05</td> <td> 6.45e+05</td>\n",
       "</tr>\n",
       "<tr>\n",
       "  <th>has_basement</th>          <td> 8.366e+04</td> <td> 4030.185</td> <td>   20.759</td> <td> 0.000</td> <td> 7.58e+04</td> <td> 9.16e+04</td>\n",
       "</tr>\n",
       "<tr>\n",
       "  <th>is_cust_build</th>         <td>  8.77e+05</td> <td> 2.89e+04</td> <td>   30.372</td> <td> 0.000</td> <td>  8.2e+05</td> <td> 9.34e+05</td>\n",
       "</tr>\n",
       "<tr>\n",
       "  <th>years_since_renovated</th> <td> 4208.5386</td> <td>  367.792</td> <td>   11.443</td> <td> 0.000</td> <td> 3487.625</td> <td> 4929.453</td>\n",
       "</tr>\n",
       "<tr>\n",
       "  <th>grade</th>                 <td> 1.784e+05</td> <td> 1747.443</td> <td>  102.066</td> <td> 0.000</td> <td> 1.75e+05</td> <td> 1.82e+05</td>\n",
       "</tr>\n",
       "</table>\n",
       "<table class=\"simpletable\">\n",
       "<tr>\n",
       "  <th>Omnibus:</th>       <td>12663.815</td> <th>  Durbin-Watson:     </th>  <td>   2.005</td> \n",
       "</tr>\n",
       "<tr>\n",
       "  <th>Prob(Omnibus):</th>  <td> 0.000</td>   <th>  Jarque-Bera (JB):  </th> <td>992063.724</td>\n",
       "</tr>\n",
       "<tr>\n",
       "  <th>Skew:</th>           <td> 3.177</td>   <th>  Prob(JB):          </th>  <td>    0.00</td> \n",
       "</tr>\n",
       "<tr>\n",
       "  <th>Kurtosis:</th>       <td>40.810</td>   <th>  Cond. No.          </th>  <td>    119.</td> \n",
       "</tr>\n",
       "</table><br/><br/>Warnings:<br/>[1] Standard Errors assume that the covariance matrix of the errors is correctly specified."
      ],
      "text/plain": [
       "<class 'statsmodels.iolib.summary.Summary'>\n",
       "\"\"\"\n",
       "                            OLS Regression Results                            \n",
       "==============================================================================\n",
       "Dep. Variable:                  price   R-squared:                       0.560\n",
       "Model:                            OLS   Adj. R-squared:                  0.559\n",
       "Method:                 Least Squares   F-statistic:                     3429.\n",
       "Date:                Thu, 04 Jun 2020   Prob (F-statistic):               0.00\n",
       "Time:                        13:49:11   Log-Likelihood:            -2.2400e+05\n",
       "No. Observations:               16197   AIC:                         4.480e+05\n",
       "Df Residuals:                   16190   BIC:                         4.481e+05\n",
       "Df Model:                           6                                         \n",
       "Covariance Type:            nonrobust                                         \n",
       "=========================================================================================\n",
       "                            coef    std err          t      P>|t|      [0.025      0.975]\n",
       "-----------------------------------------------------------------------------------------\n",
       "Intercept             -8.864e+05   1.34e+04    -65.928      0.000   -9.13e+05    -8.6e+05\n",
       "view                    7.53e+04   2835.231     26.560      0.000    6.97e+04    8.09e+04\n",
       "waterfront             5.956e+05   2.51e+04     23.686      0.000    5.46e+05    6.45e+05\n",
       "has_basement           8.366e+04   4030.185     20.759      0.000    7.58e+04    9.16e+04\n",
       "is_cust_build           8.77e+05   2.89e+04     30.372      0.000     8.2e+05    9.34e+05\n",
       "years_since_renovated  4208.5386    367.792     11.443      0.000    3487.625    4929.453\n",
       "grade                  1.784e+05   1747.443    102.066      0.000    1.75e+05    1.82e+05\n",
       "==============================================================================\n",
       "Omnibus:                    12663.815   Durbin-Watson:                   2.005\n",
       "Prob(Omnibus):                  0.000   Jarque-Bera (JB):           992063.724\n",
       "Skew:                           3.177   Prob(JB):                         0.00\n",
       "Kurtosis:                      40.810   Cond. No.                         119.\n",
       "==============================================================================\n",
       "\n",
       "Warnings:\n",
       "[1] Standard Errors assume that the covariance matrix of the errors is correctly specified.\n",
       "\"\"\""
      ]
     },
     "execution_count": 14,
     "metadata": {},
     "output_type": "execute_result"
    }
   ],
   "source": [
    "predictors = '+'.join(x_cols)\n",
    "formula = outcome + \"~\" + predictors\n",
    "model = ols(formula=formula, data=train).fit()\n",
    "model.summary()"
   ]
  },
  {
   "cell_type": "markdown",
   "metadata": {},
   "source": [
    "# Multicollinearity"
   ]
  },
  {
   "cell_type": "code",
   "execution_count": 15,
   "metadata": {},
   "outputs": [
    {
     "data": {
      "text/plain": [
       "[('view', 1.3507565775678645),\n",
       " ('waterfront', 1.1835839873596314),\n",
       " ('has_basement', 1.6636772912133575),\n",
       " ('is_cust_build', 1.0263826597148695),\n",
       " ('years_since_renovated', 1.0342041245382976),\n",
       " ('grade', 1.6963546479999723)]"
      ]
     },
     "execution_count": 15,
     "metadata": {},
     "output_type": "execute_result"
    }
   ],
   "source": [
    "X = df[x_cols]\n",
    "vif = [variance_inflation_factor(X.values, i) for i in range(X.shape[1])]\n",
    "list(zip(x_cols, vif))"
   ]
  },
  {
   "cell_type": "markdown",
   "metadata": {},
   "source": [
    "# Feature Selection"
   ]
  },
  {
   "cell_type": "code",
   "execution_count": 16,
   "metadata": {},
   "outputs": [
    {
     "name": "stdout",
     "output_type": "stream",
     "text": [
      "6 6\n"
     ]
    }
   ],
   "source": [
    "vif_scores = list(zip(x_cols, vif))\n",
    "x_cols = [x for x,vif in vif_scores if vif < 5]\n",
    "print(len(vif_scores), len(x_cols))"
   ]
  },
  {
   "cell_type": "code",
   "execution_count": 17,
   "metadata": {},
   "outputs": [
    {
     "data": {
      "text/html": [
       "<table class=\"simpletable\">\n",
       "<caption>OLS Regression Results</caption>\n",
       "<tr>\n",
       "  <th>Dep. Variable:</th>          <td>price</td>      <th>  R-squared:         </th>  <td>   0.560</td>  \n",
       "</tr>\n",
       "<tr>\n",
       "  <th>Model:</th>                   <td>OLS</td>       <th>  Adj. R-squared:    </th>  <td>   0.559</td>  \n",
       "</tr>\n",
       "<tr>\n",
       "  <th>Method:</th>             <td>Least Squares</td>  <th>  F-statistic:       </th>  <td>   3429.</td>  \n",
       "</tr>\n",
       "<tr>\n",
       "  <th>Date:</th>             <td>Thu, 04 Jun 2020</td> <th>  Prob (F-statistic):</th>   <td>  0.00</td>   \n",
       "</tr>\n",
       "<tr>\n",
       "  <th>Time:</th>                 <td>13:49:17</td>     <th>  Log-Likelihood:    </th> <td>-2.2400e+05</td>\n",
       "</tr>\n",
       "<tr>\n",
       "  <th>No. Observations:</th>      <td> 16197</td>      <th>  AIC:               </th>  <td>4.480e+05</td> \n",
       "</tr>\n",
       "<tr>\n",
       "  <th>Df Residuals:</th>          <td> 16190</td>      <th>  BIC:               </th>  <td>4.481e+05</td> \n",
       "</tr>\n",
       "<tr>\n",
       "  <th>Df Model:</th>              <td>     6</td>      <th>                     </th>      <td> </td>     \n",
       "</tr>\n",
       "<tr>\n",
       "  <th>Covariance Type:</th>      <td>nonrobust</td>    <th>                     </th>      <td> </td>     \n",
       "</tr>\n",
       "</table>\n",
       "<table class=\"simpletable\">\n",
       "<tr>\n",
       "            <td></td>               <th>coef</th>     <th>std err</th>      <th>t</th>      <th>P>|t|</th>  <th>[0.025</th>    <th>0.975]</th>  \n",
       "</tr>\n",
       "<tr>\n",
       "  <th>Intercept</th>             <td>-8.864e+05</td> <td> 1.34e+04</td> <td>  -65.928</td> <td> 0.000</td> <td>-9.13e+05</td> <td> -8.6e+05</td>\n",
       "</tr>\n",
       "<tr>\n",
       "  <th>view</th>                  <td>  7.53e+04</td> <td> 2835.231</td> <td>   26.560</td> <td> 0.000</td> <td> 6.97e+04</td> <td> 8.09e+04</td>\n",
       "</tr>\n",
       "<tr>\n",
       "  <th>waterfront</th>            <td> 5.956e+05</td> <td> 2.51e+04</td> <td>   23.686</td> <td> 0.000</td> <td> 5.46e+05</td> <td> 6.45e+05</td>\n",
       "</tr>\n",
       "<tr>\n",
       "  <th>has_basement</th>          <td> 8.366e+04</td> <td> 4030.185</td> <td>   20.759</td> <td> 0.000</td> <td> 7.58e+04</td> <td> 9.16e+04</td>\n",
       "</tr>\n",
       "<tr>\n",
       "  <th>is_cust_build</th>         <td>  8.77e+05</td> <td> 2.89e+04</td> <td>   30.372</td> <td> 0.000</td> <td>  8.2e+05</td> <td> 9.34e+05</td>\n",
       "</tr>\n",
       "<tr>\n",
       "  <th>years_since_renovated</th> <td> 4208.5386</td> <td>  367.792</td> <td>   11.443</td> <td> 0.000</td> <td> 3487.625</td> <td> 4929.453</td>\n",
       "</tr>\n",
       "<tr>\n",
       "  <th>grade</th>                 <td> 1.784e+05</td> <td> 1747.443</td> <td>  102.066</td> <td> 0.000</td> <td> 1.75e+05</td> <td> 1.82e+05</td>\n",
       "</tr>\n",
       "</table>\n",
       "<table class=\"simpletable\">\n",
       "<tr>\n",
       "  <th>Omnibus:</th>       <td>12663.815</td> <th>  Durbin-Watson:     </th>  <td>   2.005</td> \n",
       "</tr>\n",
       "<tr>\n",
       "  <th>Prob(Omnibus):</th>  <td> 0.000</td>   <th>  Jarque-Bera (JB):  </th> <td>992063.724</td>\n",
       "</tr>\n",
       "<tr>\n",
       "  <th>Skew:</th>           <td> 3.177</td>   <th>  Prob(JB):          </th>  <td>    0.00</td> \n",
       "</tr>\n",
       "<tr>\n",
       "  <th>Kurtosis:</th>       <td>40.810</td>   <th>  Cond. No.          </th>  <td>    119.</td> \n",
       "</tr>\n",
       "</table><br/><br/>Warnings:<br/>[1] Standard Errors assume that the covariance matrix of the errors is correctly specified."
      ],
      "text/plain": [
       "<class 'statsmodels.iolib.summary.Summary'>\n",
       "\"\"\"\n",
       "                            OLS Regression Results                            \n",
       "==============================================================================\n",
       "Dep. Variable:                  price   R-squared:                       0.560\n",
       "Model:                            OLS   Adj. R-squared:                  0.559\n",
       "Method:                 Least Squares   F-statistic:                     3429.\n",
       "Date:                Thu, 04 Jun 2020   Prob (F-statistic):               0.00\n",
       "Time:                        13:49:17   Log-Likelihood:            -2.2400e+05\n",
       "No. Observations:               16197   AIC:                         4.480e+05\n",
       "Df Residuals:                   16190   BIC:                         4.481e+05\n",
       "Df Model:                           6                                         \n",
       "Covariance Type:            nonrobust                                         \n",
       "=========================================================================================\n",
       "                            coef    std err          t      P>|t|      [0.025      0.975]\n",
       "-----------------------------------------------------------------------------------------\n",
       "Intercept             -8.864e+05   1.34e+04    -65.928      0.000   -9.13e+05    -8.6e+05\n",
       "view                    7.53e+04   2835.231     26.560      0.000    6.97e+04    8.09e+04\n",
       "waterfront             5.956e+05   2.51e+04     23.686      0.000    5.46e+05    6.45e+05\n",
       "has_basement           8.366e+04   4030.185     20.759      0.000    7.58e+04    9.16e+04\n",
       "is_cust_build           8.77e+05   2.89e+04     30.372      0.000     8.2e+05    9.34e+05\n",
       "years_since_renovated  4208.5386    367.792     11.443      0.000    3487.625    4929.453\n",
       "grade                  1.784e+05   1747.443    102.066      0.000    1.75e+05    1.82e+05\n",
       "==============================================================================\n",
       "Omnibus:                    12663.815   Durbin-Watson:                   2.005\n",
       "Prob(Omnibus):                  0.000   Jarque-Bera (JB):           992063.724\n",
       "Skew:                           3.177   Prob(JB):                         0.00\n",
       "Kurtosis:                      40.810   Cond. No.                         119.\n",
       "==============================================================================\n",
       "\n",
       "Warnings:\n",
       "[1] Standard Errors assume that the covariance matrix of the errors is correctly specified.\n",
       "\"\"\""
      ]
     },
     "execution_count": 17,
     "metadata": {},
     "output_type": "execute_result"
    }
   ],
   "source": [
    "predictors = '+'.join(x_cols)\n",
    "formula = outcome + \"~\" + predictors\n",
    "model = ols(formula=formula, data=train).fit()\n",
    "model.summary()"
   ]
  },
  {
   "cell_type": "markdown",
   "metadata": {},
   "source": [
    "# Normality"
   ]
  },
  {
   "cell_type": "code",
   "execution_count": 18,
   "metadata": {},
   "outputs": [
    {
     "data": {
      "image/png": "[encoded data removed]",
      "text/plain": [
       "<Figure size 432x288 with 1 Axes>"
      ]
     },
     "metadata": {},
     "output_type": "display_data"
    }
   ],
   "source": [
    "fig = sm.graphics.qqplot(model.resid, dist=stats.norm, line='45', fit=True)"
   ]
  },
  {
   "cell_type": "markdown",
   "metadata": {},
   "source": [
    "# Homoscedasticity"
   ]
  },
  {
   "cell_type": "code",
   "execution_count": 19,
   "metadata": {},
   "outputs": [
    {
     "data": {
      "text/plain": [
       "[<matplotlib.lines.Line2D at 0x1434e5e7148>]"
      ]
     },
     "execution_count": 19,
     "metadata": {},
     "output_type": "execute_result"
    },
    {
     "data": {
      "image/png": "[encoded data removed]",
      "text/plain": [
       "<Figure size 432x288 with 1 Axes>"
      ]
     },
     "metadata": {},
     "output_type": "display_data"
    }
   ],
   "source": [
    "plt.scatter(model.predict(train[x_cols]), model.resid)\n",
    "plt.plot(model.predict(train[x_cols]), [0 for i in range(len(train))])"
   ]
  },
  {
   "cell_type": "markdown",
   "metadata": {},
   "source": [
    "# Refinements"
   ]
  },
  {
   "cell_type": "code",
   "execution_count": 20,
   "metadata": {},
   "outputs": [
    {
     "data": {
      "text/plain": [
       "<matplotlib.axes._subplots.AxesSubplot at 0x1434e6fb248>"
      ]
     },
     "execution_count": 20,
     "metadata": {},
     "output_type": "execute_result"
    },
    {
     "data": {
      "image/png": "[encoded data removed]",
      "text/plain": [
       "<Figure size 432x288 with 1 Axes>"
      ]
     },
     "metadata": {},
     "output_type": "display_data"
    }
   ],
   "source": [
    "df.price.hist()"
   ]
  },
  {
   "cell_type": "code",
   "execution_count": 21,
   "metadata": {},
   "outputs": [
    {
     "name": "stdout",
     "output_type": "stream",
     "text": [
      "0.8 percentile: 700435.9999999998\n",
      "0.81 percentile: 718000.0\n",
      "0.82 percentile: 730000.72\n",
      "0.83 percentile: 749950.0\n",
      "0.84 percentile: 760003.2\n",
      "0.85 percentile: 779721.9999999991\n",
      "0.86 percentile: 799000.0\n",
      "0.87 percentile: 815000.0\n",
      "0.88 percentile: 836739.9999999998\n",
      "0.89 percentile: 859967.6\n",
      "0.9 percentile: 887000.0\n",
      "0.91 percentile: 919993.6\n",
      "0.92 percentile: 950000.0\n",
      "0.93 percentile: 997964.0000000002\n",
      "0.94 percentile: 1060000.0\n",
      "0.95 percentile: 1160000.0\n",
      "0.96 percentile: 1260000.0\n",
      "0.97 percentile: 1390000.0\n",
      "0.98 percentile: 1600000.0\n",
      "0.99 percentile: 1970000.0\n"
     ]
    }
   ],
   "source": [
    "for i in range(80,100):\n",
    "    q = i/100\n",
    "    print(\"{} percentile: {}\".format(q, df.price.quantile(q=q)))"
   ]
  },
  {
   "cell_type": "code",
   "execution_count": 22,
   "metadata": {},
   "outputs": [
    {
     "name": "stdout",
     "output_type": "stream",
     "text": [
      "Percent removed: 0.009630967263971849\n"
     ]
    },
    {
     "data": {
      "text/html": [
       "<table class=\"simpletable\">\n",
       "<caption>OLS Regression Results</caption>\n",
       "<tr>\n",
       "  <th>Dep. Variable:</th>          <td>price</td>      <th>  R-squared:         </th> <td>   0.514</td> \n",
       "</tr>\n",
       "<tr>\n",
       "  <th>Model:</th>                   <td>OLS</td>       <th>  Adj. R-squared:    </th> <td>   0.514</td> \n",
       "</tr>\n",
       "<tr>\n",
       "  <th>Method:</th>             <td>Least Squares</td>  <th>  F-statistic:       </th> <td>   2825.</td> \n",
       "</tr>\n",
       "<tr>\n",
       "  <th>Date:</th>             <td>Thu, 04 Jun 2020</td> <th>  Prob (F-statistic):</th>  <td>  0.00</td>  \n",
       "</tr>\n",
       "<tr>\n",
       "  <th>Time:</th>                 <td>13:49:27</td>     <th>  Log-Likelihood:    </th> <td> -5836.0</td> \n",
       "</tr>\n",
       "<tr>\n",
       "  <th>No. Observations:</th>      <td> 16041</td>      <th>  AIC:               </th> <td>1.169e+04</td>\n",
       "</tr>\n",
       "<tr>\n",
       "  <th>Df Residuals:</th>          <td> 16034</td>      <th>  BIC:               </th> <td>1.174e+04</td>\n",
       "</tr>\n",
       "<tr>\n",
       "  <th>Df Model:</th>              <td>     6</td>      <th>                     </th>     <td> </td>    \n",
       "</tr>\n",
       "<tr>\n",
       "  <th>Covariance Type:</th>      <td>nonrobust</td>    <th>                     </th>     <td> </td>    \n",
       "</tr>\n",
       "</table>\n",
       "<table class=\"simpletable\">\n",
       "<tr>\n",
       "            <td></td>               <th>coef</th>     <th>std err</th>      <th>t</th>      <th>P>|t|</th>  <th>[0.025</th>    <th>0.975]</th>  \n",
       "</tr>\n",
       "<tr>\n",
       "  <th>Intercept</th>             <td>   10.7694</td> <td>    0.019</td> <td>  554.607</td> <td> 0.000</td> <td>   10.731</td> <td>   10.807</td>\n",
       "</tr>\n",
       "<tr>\n",
       "  <th>view</th>                  <td>    0.0847</td> <td>    0.004</td> <td>   20.218</td> <td> 0.000</td> <td>    0.077</td> <td>    0.093</td>\n",
       "</tr>\n",
       "<tr>\n",
       "  <th>waterfront</th>            <td>    0.2675</td> <td>    0.042</td> <td>    6.356</td> <td> 0.000</td> <td>    0.185</td> <td>    0.350</td>\n",
       "</tr>\n",
       "<tr>\n",
       "  <th>has_basement</th>          <td>    0.1604</td> <td>    0.006</td> <td>   27.908</td> <td> 0.000</td> <td>    0.149</td> <td>    0.172</td>\n",
       "</tr>\n",
       "<tr>\n",
       "  <th>is_cust_build</th>         <td>   -0.1338</td> <td>    0.054</td> <td>   -2.463</td> <td> 0.014</td> <td>   -0.240</td> <td>   -0.027</td>\n",
       "</tr>\n",
       "<tr>\n",
       "  <th>years_since_renovated</th> <td>    0.0052</td> <td>    0.001</td> <td>    9.581</td> <td> 0.000</td> <td>    0.004</td> <td>    0.006</td>\n",
       "</tr>\n",
       "<tr>\n",
       "  <th>grade</th>                 <td>    0.2856</td> <td>    0.003</td> <td>  112.893</td> <td> 0.000</td> <td>    0.281</td> <td>    0.291</td>\n",
       "</tr>\n",
       "</table>\n",
       "<table class=\"simpletable\">\n",
       "<tr>\n",
       "  <th>Omnibus:</th>       <td> 3.024</td> <th>  Durbin-Watson:     </th> <td>   1.989</td>\n",
       "</tr>\n",
       "<tr>\n",
       "  <th>Prob(Omnibus):</th> <td> 0.220</td> <th>  Jarque-Bera (JB):  </th> <td>   3.048</td>\n",
       "</tr>\n",
       "<tr>\n",
       "  <th>Skew:</th>          <td> 0.019</td> <th>  Prob(JB):          </th> <td>   0.218</td>\n",
       "</tr>\n",
       "<tr>\n",
       "  <th>Kurtosis:</th>      <td> 3.055</td> <th>  Cond. No.          </th> <td>    155.</td>\n",
       "</tr>\n",
       "</table><br/><br/>Warnings:<br/>[1] Standard Errors assume that the covariance matrix of the errors is correctly specified."
      ],
      "text/plain": [
       "<class 'statsmodels.iolib.summary.Summary'>\n",
       "\"\"\"\n",
       "                            OLS Regression Results                            \n",
       "==============================================================================\n",
       "Dep. Variable:                  price   R-squared:                       0.514\n",
       "Model:                            OLS   Adj. R-squared:                  0.514\n",
       "Method:                 Least Squares   F-statistic:                     2825.\n",
       "Date:                Thu, 04 Jun 2020   Prob (F-statistic):               0.00\n",
       "Time:                        13:49:27   Log-Likelihood:                -5836.0\n",
       "No. Observations:               16041   AIC:                         1.169e+04\n",
       "Df Residuals:                   16034   BIC:                         1.174e+04\n",
       "Df Model:                           6                                         \n",
       "Covariance Type:            nonrobust                                         \n",
       "=========================================================================================\n",
       "                            coef    std err          t      P>|t|      [0.025      0.975]\n",
       "-----------------------------------------------------------------------------------------\n",
       "Intercept                10.7694      0.019    554.607      0.000      10.731      10.807\n",
       "view                      0.0847      0.004     20.218      0.000       0.077       0.093\n",
       "waterfront                0.2675      0.042      6.356      0.000       0.185       0.350\n",
       "has_basement              0.1604      0.006     27.908      0.000       0.149       0.172\n",
       "is_cust_build            -0.1338      0.054     -2.463      0.014      -0.240      -0.027\n",
       "years_since_renovated     0.0052      0.001      9.581      0.000       0.004       0.006\n",
       "grade                     0.2856      0.003    112.893      0.000       0.281       0.291\n",
       "==============================================================================\n",
       "Omnibus:                        3.024   Durbin-Watson:                   1.989\n",
       "Prob(Omnibus):                  0.220   Jarque-Bera (JB):                3.048\n",
       "Skew:                           0.019   Prob(JB):                        0.218\n",
       "Kurtosis:                       3.055   Cond. No.                         155.\n",
       "==============================================================================\n",
       "\n",
       "Warnings:\n",
       "[1] Standard Errors assume that the covariance matrix of the errors is correctly specified.\n",
       "\"\"\""
      ]
     },
     "execution_count": 22,
     "metadata": {},
     "output_type": "execute_result"
    }
   ],
   "source": [
    "orig_tot = len(df)\n",
    "df = df[df.price < 2_000_000] # Subsetting to remove extreme outliers\n",
    "print('Percent removed:', (orig_tot -len(df))/orig_tot)\n",
    "df.price = df.price.map(np.log) # Applying a log transformation\n",
    "train, test = train_test_split(df)\n",
    "\n",
    "# Refit model with subset features\n",
    "predictors = '+'.join(x_cols)\n",
    "formula = outcome + \"~\" + predictors\n",
    "model = ols(formula=formula, data=train).fit()\n",
    "model.summary()"
   ]
  },
  {
   "cell_type": "code",
   "execution_count": 23,
   "metadata": {},
   "outputs": [
    {
     "data": {
      "image/png": "[encoded data removed]",
      "text/plain": [
       "<Figure size 432x288 with 1 Axes>"
      ]
     },
     "metadata": {},
     "output_type": "display_data"
    }
   ],
   "source": [
    "fig = sm.graphics.qqplot(model.resid, dist=stats.norm, line='45', fit=True)"
   ]
  },
  {
   "cell_type": "code",
   "execution_count": 24,
   "metadata": {},
   "outputs": [
    {
     "data": {
      "text/plain": [
       "[<matplotlib.lines.Line2D at 0x1434e911c88>]"
      ]
     },
     "execution_count": 24,
     "metadata": {},
     "output_type": "execute_result"
    },
    {
     "data": {
      "image/png": "[encoded data removed]",
      "text/plain": [
       "<Figure size 432x288 with 1 Axes>"
      ]
     },
     "metadata": {},
     "output_type": "display_data"
    }
   ],
   "source": [
    "plt.scatter(model.predict(train[x_cols]), model.resid)\n",
    "plt.plot(model.predict(train[x_cols]), [0 for i in range(len(train))])"
   ]
  },
  {
   "cell_type": "code",
   "execution_count": 25,
   "metadata": {},
   "outputs": [
    {
     "name": "stdout",
     "output_type": "stream",
     "text": [
      "0.8 percentile: 13.45166712454693\n",
      "0.81 percentile: 13.466103963120823\n",
      "0.82 percentile: 13.487006490992238\n",
      "0.83 percentile: 13.507625778194974\n",
      "0.84 percentile: 13.527828485512494\n",
      "0.85 percentile: 13.547631112808673\n",
      "0.86 percentile: 13.567049198665774\n",
      "0.87 percentile: 13.592367006650065\n",
      "0.88 percentile: 13.617059619240436\n",
      "0.89 percentile: 13.641157170819497\n",
      "0.9 percentile: 13.667001268849537\n",
      "0.91 percentile: 13.698976741708323\n",
      "0.92 percentile: 13.732128949025222\n",
      "0.93 percentile: 13.771389720241922\n",
      "0.94 percentile: 13.815460556714232\n",
      "0.95 percentile: 13.883169206438088\n",
      "0.96 percentile: 13.972514306773938\n",
      "0.97 percentile: 14.054527458434775\n",
      "0.98 percentile: 14.151982794585486\n",
      "0.99 percentile: 14.291744736960645\n"
     ]
    },
    {
     "data": {
      "text/plain": [
       "<matplotlib.axes._subplots.AxesSubplot at 0x1434e88a708>"
      ]
     },
     "execution_count": 25,
     "metadata": {},
     "output_type": "execute_result"
    },
    {
     "data": {
      "image/png": "[encoded data removed]",
      "text/plain": [
       "<Figure size 432x288 with 1 Axes>"
      ]
     },
     "metadata": {},
     "output_type": "display_data"
    }
   ],
   "source": [
    "for i in range(80,100):\n",
    "    q = i/100\n",
    "    print(\"{} percentile: {}\".format(q, df.price.quantile(q=q)))\n",
    "\n",
    "df.price.hist()"
   ]
  },
  {
   "cell_type": "code",
   "execution_count": 26,
   "metadata": {},
   "outputs": [
    {
     "data": {
      "text/html": [
       "<table class=\"simpletable\">\n",
       "<caption>OLS Regression Results</caption>\n",
       "<tr>\n",
       "  <th>Dep. Variable:</th>          <td>price</td>      <th>  R-squared:         </th> <td>   0.516</td> \n",
       "</tr>\n",
       "<tr>\n",
       "  <th>Model:</th>                   <td>OLS</td>       <th>  Adj. R-squared:    </th> <td>   0.515</td> \n",
       "</tr>\n",
       "<tr>\n",
       "  <th>Method:</th>             <td>Least Squares</td>  <th>  F-statistic:       </th> <td>   2845.</td> \n",
       "</tr>\n",
       "<tr>\n",
       "  <th>Date:</th>             <td>Thu, 04 Jun 2020</td> <th>  Prob (F-statistic):</th>  <td>  0.00</td>  \n",
       "</tr>\n",
       "<tr>\n",
       "  <th>Time:</th>                 <td>13:49:50</td>     <th>  Log-Likelihood:    </th> <td> -5844.0</td> \n",
       "</tr>\n",
       "<tr>\n",
       "  <th>No. Observations:</th>      <td> 16041</td>      <th>  AIC:               </th> <td>1.170e+04</td>\n",
       "</tr>\n",
       "<tr>\n",
       "  <th>Df Residuals:</th>          <td> 16034</td>      <th>  BIC:               </th> <td>1.176e+04</td>\n",
       "</tr>\n",
       "<tr>\n",
       "  <th>Df Model:</th>              <td>     6</td>      <th>                     </th>     <td> </td>    \n",
       "</tr>\n",
       "<tr>\n",
       "  <th>Covariance Type:</th>      <td>nonrobust</td>    <th>                     </th>     <td> </td>    \n",
       "</tr>\n",
       "</table>\n",
       "<table class=\"simpletable\">\n",
       "<tr>\n",
       "            <td></td>               <th>coef</th>     <th>std err</th>      <th>t</th>      <th>P>|t|</th>  <th>[0.025</th>    <th>0.975]</th>  \n",
       "</tr>\n",
       "<tr>\n",
       "  <th>Intercept</th>             <td>   10.7489</td> <td>    0.019</td> <td>  553.669</td> <td> 0.000</td> <td>   10.711</td> <td>   10.787</td>\n",
       "</tr>\n",
       "<tr>\n",
       "  <th>view</th>                  <td>    0.0808</td> <td>    0.004</td> <td>   19.597</td> <td> 0.000</td> <td>    0.073</td> <td>    0.089</td>\n",
       "</tr>\n",
       "<tr>\n",
       "  <th>waterfront</th>            <td>    0.2773</td> <td>    0.044</td> <td>    6.332</td> <td> 0.000</td> <td>    0.191</td> <td>    0.363</td>\n",
       "</tr>\n",
       "<tr>\n",
       "  <th>has_basement</th>          <td>    0.1576</td> <td>    0.006</td> <td>   27.469</td> <td> 0.000</td> <td>    0.146</td> <td>    0.169</td>\n",
       "</tr>\n",
       "<tr>\n",
       "  <th>is_cust_build</th>         <td>   -0.1614</td> <td>    0.054</td> <td>   -2.969</td> <td> 0.003</td> <td>   -0.268</td> <td>   -0.055</td>\n",
       "</tr>\n",
       "<tr>\n",
       "  <th>years_since_renovated</th> <td>    0.0052</td> <td>    0.001</td> <td>    9.788</td> <td> 0.000</td> <td>    0.004</td> <td>    0.006</td>\n",
       "</tr>\n",
       "<tr>\n",
       "  <th>grade</th>                 <td>    0.2883</td> <td>    0.003</td> <td>  114.291</td> <td> 0.000</td> <td>    0.283</td> <td>    0.293</td>\n",
       "</tr>\n",
       "</table>\n",
       "<table class=\"simpletable\">\n",
       "<tr>\n",
       "  <th>Omnibus:</th>       <td> 2.099</td> <th>  Durbin-Watson:     </th> <td>   1.996</td>\n",
       "</tr>\n",
       "<tr>\n",
       "  <th>Prob(Omnibus):</th> <td> 0.350</td> <th>  Jarque-Bera (JB):  </th> <td>   2.104</td>\n",
       "</tr>\n",
       "<tr>\n",
       "  <th>Skew:</th>          <td> 0.028</td> <th>  Prob(JB):          </th> <td>   0.349</td>\n",
       "</tr>\n",
       "<tr>\n",
       "  <th>Kurtosis:</th>      <td> 2.995</td> <th>  Cond. No.          </th> <td>    156.</td>\n",
       "</tr>\n",
       "</table><br/><br/>Warnings:<br/>[1] Standard Errors assume that the covariance matrix of the errors is correctly specified."
      ],
      "text/plain": [
       "<class 'statsmodels.iolib.summary.Summary'>\n",
       "\"\"\"\n",
       "                            OLS Regression Results                            \n",
       "==============================================================================\n",
       "Dep. Variable:                  price   R-squared:                       0.516\n",
       "Model:                            OLS   Adj. R-squared:                  0.515\n",
       "Method:                 Least Squares   F-statistic:                     2845.\n",
       "Date:                Thu, 04 Jun 2020   Prob (F-statistic):               0.00\n",
       "Time:                        13:49:50   Log-Likelihood:                -5844.0\n",
       "No. Observations:               16041   AIC:                         1.170e+04\n",
       "Df Residuals:                   16034   BIC:                         1.176e+04\n",
       "Df Model:                           6                                         \n",
       "Covariance Type:            nonrobust                                         \n",
       "=========================================================================================\n",
       "                            coef    std err          t      P>|t|      [0.025      0.975]\n",
       "-----------------------------------------------------------------------------------------\n",
       "Intercept                10.7489      0.019    553.669      0.000      10.711      10.787\n",
       "view                      0.0808      0.004     19.597      0.000       0.073       0.089\n",
       "waterfront                0.2773      0.044      6.332      0.000       0.191       0.363\n",
       "has_basement              0.1576      0.006     27.469      0.000       0.146       0.169\n",
       "is_cust_build            -0.1614      0.054     -2.969      0.003      -0.268      -0.055\n",
       "years_since_renovated     0.0052      0.001      9.788      0.000       0.004       0.006\n",
       "grade                     0.2883      0.003    114.291      0.000       0.283       0.293\n",
       "==============================================================================\n",
       "Omnibus:                        2.099   Durbin-Watson:                   1.996\n",
       "Prob(Omnibus):                  0.350   Jarque-Bera (JB):                2.104\n",
       "Skew:                           0.028   Prob(JB):                        0.349\n",
       "Kurtosis:                       2.995   Cond. No.                         156.\n",
       "==============================================================================\n",
       "\n",
       "Warnings:\n",
       "[1] Standard Errors assume that the covariance matrix of the errors is correctly specified.\n",
       "\"\"\""
      ]
     },
     "execution_count": 26,
     "metadata": {},
     "output_type": "execute_result"
    }
   ],
   "source": [
    "df = df[df.price <= 15]\n",
    "train, test = train_test_split(df)\n",
    "\n",
    "# Refit model with subset features\n",
    "predictors = '+'.join(x_cols)\n",
    "formula = outcome + '~' + predictors\n",
    "model = ols(formula=formula, data=train).fit()\n",
    "model.summary()"
   ]
  },
  {
   "cell_type": "code",
   "execution_count": 27,
   "metadata": {},
   "outputs": [
    {
     "data": {
      "image/png": "[encoded data removed]",
      "text/plain": [
       "<Figure size 432x288 with 1 Axes>"
      ]
     },
     "metadata": {},
     "output_type": "display_data"
    }
   ],
   "source": [
    "fig = sm.graphics.qqplot(model.resid, dist=stats.norm, line='45', fit=True)"
   ]
  },
  {
   "cell_type": "code",
   "execution_count": 28,
   "metadata": {},
   "outputs": [
    {
     "data": {
      "text/plain": [
       "[<matplotlib.lines.Line2D at 0x1434e9d2508>]"
      ]
     },
     "execution_count": 28,
     "metadata": {},
     "output_type": "execute_result"
    },
    {
     "data": {
      "image/png": "[encoded data removed]",
      "text/plain": [
       "<Figure size 432x288 with 1 Axes>"
      ]
     },
     "metadata": {},
     "output_type": "display_data"
    }
   ],
   "source": [
    "plt.scatter(model.predict(train[x_cols]), model.resid)\n",
    "plt.plot(model.predict(train[x_cols]), [0 for i in range(len(train))])"
   ]
  },
  {
   "cell_type": "markdown",
   "metadata": {},
   "source": [
    "# Is it working?"
   ]
  },
  {
   "cell_type": "code",
   "execution_count": 30,
   "metadata": {},
   "outputs": [],
   "source": [
    "from sklearn.model_selection import train_test_split\n",
    "from sklearn.linear_model import LinearRegression"
   ]
  },
  {
   "cell_type": "code",
   "execution_count": 34,
   "metadata": {},
   "outputs": [],
   "source": [
    "X = df[['view', 'waterfront', 'has_basement', 'is_cust_build', 'years_since_renovated', 'grade']]\n",
    "y = df['price']"
   ]
  },
  {
   "cell_type": "code",
   "execution_count": 35,
   "metadata": {},
   "outputs": [],
   "source": [
    "X_train, X_test, y_train, y_test = train_test_split(X, y, test_size=0.20)"
   ]
  },
  {
   "cell_type": "code",
   "execution_count": 36,
   "metadata": {},
   "outputs": [],
   "source": [
    "ols = LinearRegression(fit_intercept=False, normalize=False)"
   ]
  },
  {
   "cell_type": "code",
   "execution_count": 37,
   "metadata": {},
   "outputs": [
    {
     "data": {
      "text/plain": [
       "LinearRegression(copy_X=True, fit_intercept=False, n_jobs=None, normalize=False)"
      ]
     },
     "execution_count": 37,
     "metadata": {},
     "output_type": "execute_result"
    }
   ],
   "source": [
    "ols.fit(X_train, y_train)"
   ]
  },
  {
   "cell_type": "code",
   "execution_count": 38,
   "metadata": {},
   "outputs": [
    {
     "data": {
      "text/plain": [
       "-8.67360816745105"
      ]
     },
     "execution_count": 38,
     "metadata": {},
     "output_type": "execute_result"
    }
   ],
   "source": [
    "ols.score(X_train, y_train)"
   ]
  },
  {
   "cell_type": "code",
   "execution_count": 39,
   "metadata": {},
   "outputs": [
    {
     "data": {
      "text/plain": [
       "-9.191047201104038"
      ]
     },
     "execution_count": 39,
     "metadata": {},
     "output_type": "execute_result"
    }
   ],
   "source": [
    "ols.score(X_test, y_test)"
   ]
  },
  {
   "cell_type": "code",
   "execution_count": 41,
   "metadata": {},
   "outputs": [
    {
     "data": {
      "text/html": [
       "<div>\n",
       "<style scoped>\n",
       "    .dataframe tbody tr th:only-of-type {\n",
       "        vertical-align: middle;\n",
       "    }\n",
       "\n",
       "    .dataframe tbody tr th {\n",
       "        vertical-align: top;\n",
       "    }\n",
       "\n",
       "    .dataframe thead th {\n",
       "        text-align: right;\n",
       "    }\n",
       "</style>\n",
       "<table border=\"1\" class=\"dataframe\">\n",
       "  <thead>\n",
       "    <tr style=\"text-align: right;\">\n",
       "      <th></th>\n",
       "      <th>price</th>\n",
       "      <th>waterfront</th>\n",
       "      <th>view</th>\n",
       "      <th>grade</th>\n",
       "      <th>has_basement</th>\n",
       "      <th>is_cust_build</th>\n",
       "      <th>years_since_renovated</th>\n",
       "    </tr>\n",
       "  </thead>\n",
       "  <tbody>\n",
       "    <tr>\n",
       "      <th>14906</th>\n",
       "      <td>13.681979</td>\n",
       "      <td>0.0</td>\n",
       "      <td>0.0</td>\n",
       "      <td>8</td>\n",
       "      <td>0</td>\n",
       "      <td>0</td>\n",
       "      <td>11.0</td>\n",
       "    </tr>\n",
       "  </tbody>\n",
       "</table>\n",
       "</div>"
      ],
      "text/plain": [
       "           price  waterfront  view  grade  has_basement  is_cust_build  \\\n",
       "14906  13.681979         0.0   0.0      8             0              0   \n",
       "\n",
       "       years_since_renovated  \n",
       "14906                   11.0  "
      ]
     },
     "execution_count": 41,
     "metadata": {},
     "output_type": "execute_result"
    }
   ],
   "source": [
    "x_sample = df.sample(n=1)\n",
    "x_sample"
   ]
  },
  {
   "cell_type": "code",
   "execution_count": 46,
   "metadata": {},
   "outputs": [],
   "source": [
    "def predict_price(x_sample):\n",
    "\n",
    "    cols = ['view', 'waterfront', 'has_basement', 'is_cust_build', 'years_since_renovated', 'grade']\n",
    "    target = 'price'\n",
    "\n",
    "    x_sample_final = x_sample[cols]\n",
    "    return(ols.predict(x_sample_final)[0])"
   ]
  },
  {
   "cell_type": "code",
   "execution_count": 47,
   "metadata": {},
   "outputs": [
    {
     "data": {
      "text/plain": [
       "13.52484448423993"
      ]
     },
     "execution_count": 47,
     "metadata": {},
     "output_type": "execute_result"
    }
   ],
   "source": [
    "predict_price(x_sample)"
   ]
  },
  {
   "cell_type": "code",
   "execution_count": null,
   "metadata": {},
   "outputs": [],
   "source": []
  },
  {
   "cell_type": "code",
   "execution_count": null,
   "metadata": {},
   "outputs": [],
   "source": []
  },
  {
   "cell_type": "code",
   "execution_count": null,
   "metadata": {},
   "outputs": [],
   "source": []
  },
  {
   "cell_type": "code",
   "execution_count": null,
   "metadata": {},
   "outputs": [],
   "source": [
    "sqft above view grade condition waterfront\n"
   ]
  }
 ],
 "metadata": {
  "kernelspec": {
   "display_name": "Python 3",
   "language": "python",
   "name": "python3"
  },
  "language_info": {
   "codemirror_mode": {
    "name": "ipython",
    "version": 3
   },
   "file_extension": ".py",
   "mimetype": "text/x-python",
   "name": "python",
   "nbconvert_exporter": "python",
   "pygments_lexer": "ipython3",
   "version": "3.7.6"
  }
 },
 "nbformat": 4,
 "nbformat_minor": 4
}
