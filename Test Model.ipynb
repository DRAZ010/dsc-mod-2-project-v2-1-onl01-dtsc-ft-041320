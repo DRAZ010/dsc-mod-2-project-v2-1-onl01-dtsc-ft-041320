{
 "cells": [
  {
   "cell_type": "code",
   "execution_count": 183,
   "metadata": {},
   "outputs": [],
   "source": [
    "import pandas as pd\n",
    "import matplotlib.pyplot as plt\n",
    "import numpy as np\n",
    "import seaborn as sns\n",
    "sns.set_style('darkgrid')\n",
    "\n",
    "from sklearn.model_selection import train_test_split\n",
    "from sklearn.linear_model import LinearRegression"
   ]
  },
  {
   "cell_type": "code",
   "execution_count": 184,
   "metadata": {},
   "outputs": [],
   "source": [
    "from statsmodels.formula.api import ols\n",
    "from statsmodels.stats.outliers_influence import variance_inflation_factor\n",
    "import statsmodels.api as sm\n",
    "import scipy.stats as stats\n",
    "from sklearn.model_selection import train_test_split"
   ]
  },
  {
   "cell_type": "code",
   "execution_count": 185,
   "metadata": {},
   "outputs": [],
   "source": [
    "df=pd.read_csv('data/kc_cleaned_data.csv')\n",
    "\n",
    "df.drop(columns=['id', 'date', 'bedrooms', 'bathrooms', 'floors', \n",
    "                 'condition','sqft_above', 'sqft_basement', 'yr_built', 'yr_renovated', 'zipcode'], inplace=True)"
   ]
  },
  {
   "cell_type": "code",
   "execution_count": 186,
   "metadata": {},
   "outputs": [],
   "source": [
    "log_lat= np.log(df['lat'])\n",
    "df['lat']= log_lat\n",
    "\n",
    "df['long'] = df['long'].abs()\n",
    "log_long= np.log(df['long'])\n",
    "df['long']=log_long\n",
    "\n",
    "log_sqft_living = np.log(df['sqft_living'])\n",
    "df['sqft_living'] = log_sqft_living\n",
    "\n",
    "log_sqft_lot = np.log(df['sqft_lot'])\n",
    "df['sqft_lot'] = log_sqft_lot\n",
    "\n",
    "log_sqft_living15 = np.log(df['sqft_living15'])\n",
    "df['sqft_living15'] = log_sqft_living15\n",
    "\n",
    "log_sqft_lot15 = np.log(df['sqft_lot15'])\n",
    "df['sqft_lot15'] = log_sqft_lot15"
   ]
  },
  {
   "cell_type": "code",
   "execution_count": 187,
   "metadata": {},
   "outputs": [
    {
     "data": {
      "text/html": [
       "<div>\n",
       "<style scoped>\n",
       "    .dataframe tbody tr th:only-of-type {\n",
       "        vertical-align: middle;\n",
       "    }\n",
       "\n",
       "    .dataframe tbody tr th {\n",
       "        vertical-align: top;\n",
       "    }\n",
       "\n",
       "    .dataframe thead th {\n",
       "        text-align: right;\n",
       "    }\n",
       "</style>\n",
       "<table border=\"1\" class=\"dataframe\">\n",
       "  <thead>\n",
       "    <tr style=\"text-align: right;\">\n",
       "      <th></th>\n",
       "      <th>price</th>\n",
       "      <th>sqft_living</th>\n",
       "      <th>sqft_lot</th>\n",
       "      <th>waterfront</th>\n",
       "      <th>view</th>\n",
       "      <th>grade</th>\n",
       "      <th>lat</th>\n",
       "      <th>long</th>\n",
       "      <th>sqft_living15</th>\n",
       "      <th>sqft_lot15</th>\n",
       "      <th>has_basement</th>\n",
       "      <th>is_cust_build</th>\n",
       "      <th>years_since_renovated</th>\n",
       "    </tr>\n",
       "  </thead>\n",
       "  <tbody>\n",
       "    <tr>\n",
       "      <th>0</th>\n",
       "      <td>221900.0</td>\n",
       "      <td>7.073270</td>\n",
       "      <td>8.639411</td>\n",
       "      <td>0.0</td>\n",
       "      <td>0.0</td>\n",
       "      <td>7</td>\n",
       "      <td>3.860965</td>\n",
       "      <td>4.806125</td>\n",
       "      <td>7.200425</td>\n",
       "      <td>8.639411</td>\n",
       "      <td>0</td>\n",
       "      <td>0</td>\n",
       "      <td>0.0</td>\n",
       "    </tr>\n",
       "    <tr>\n",
       "      <th>1</th>\n",
       "      <td>538000.0</td>\n",
       "      <td>7.851661</td>\n",
       "      <td>8.887653</td>\n",
       "      <td>0.0</td>\n",
       "      <td>0.0</td>\n",
       "      <td>7</td>\n",
       "      <td>3.865372</td>\n",
       "      <td>4.806632</td>\n",
       "      <td>7.432484</td>\n",
       "      <td>8.941022</td>\n",
       "      <td>1</td>\n",
       "      <td>0</td>\n",
       "      <td>29.0</td>\n",
       "    </tr>\n",
       "    <tr>\n",
       "      <th>2</th>\n",
       "      <td>180000.0</td>\n",
       "      <td>6.646391</td>\n",
       "      <td>9.210340</td>\n",
       "      <td>0.0</td>\n",
       "      <td>0.0</td>\n",
       "      <td>6</td>\n",
       "      <td>3.865726</td>\n",
       "      <td>4.805929</td>\n",
       "      <td>7.908387</td>\n",
       "      <td>8.994917</td>\n",
       "      <td>0</td>\n",
       "      <td>0</td>\n",
       "      <td>0.0</td>\n",
       "    </tr>\n",
       "    <tr>\n",
       "      <th>3</th>\n",
       "      <td>604000.0</td>\n",
       "      <td>7.580700</td>\n",
       "      <td>8.517193</td>\n",
       "      <td>0.0</td>\n",
       "      <td>0.0</td>\n",
       "      <td>7</td>\n",
       "      <td>3.861168</td>\n",
       "      <td>4.807237</td>\n",
       "      <td>7.215240</td>\n",
       "      <td>8.517193</td>\n",
       "      <td>1</td>\n",
       "      <td>0</td>\n",
       "      <td>0.0</td>\n",
       "    </tr>\n",
       "    <tr>\n",
       "      <th>4</th>\n",
       "      <td>510000.0</td>\n",
       "      <td>7.426549</td>\n",
       "      <td>8.997147</td>\n",
       "      <td>0.0</td>\n",
       "      <td>0.0</td>\n",
       "      <td>8</td>\n",
       "      <td>3.863186</td>\n",
       "      <td>4.804390</td>\n",
       "      <td>7.495542</td>\n",
       "      <td>8.923058</td>\n",
       "      <td>0</td>\n",
       "      <td>0</td>\n",
       "      <td>0.0</td>\n",
       "    </tr>\n",
       "  </tbody>\n",
       "</table>\n",
       "</div>"
      ],
      "text/plain": [
       "      price  sqft_living  sqft_lot  waterfront  view  grade       lat  \\\n",
       "0  221900.0     7.073270  8.639411         0.0   0.0      7  3.860965   \n",
       "1  538000.0     7.851661  8.887653         0.0   0.0      7  3.865372   \n",
       "2  180000.0     6.646391  9.210340         0.0   0.0      6  3.865726   \n",
       "3  604000.0     7.580700  8.517193         0.0   0.0      7  3.861168   \n",
       "4  510000.0     7.426549  8.997147         0.0   0.0      8  3.863186   \n",
       "\n",
       "       long  sqft_living15  sqft_lot15  has_basement  is_cust_build  \\\n",
       "0  4.806125       7.200425    8.639411             0              0   \n",
       "1  4.806632       7.432484    8.941022             1              0   \n",
       "2  4.805929       7.908387    8.994917             0              0   \n",
       "3  4.807237       7.215240    8.517193             1              0   \n",
       "4  4.804390       7.495542    8.923058             0              0   \n",
       "\n",
       "   years_since_renovated  \n",
       "0                    0.0  \n",
       "1                   29.0  \n",
       "2                    0.0  \n",
       "3                    0.0  \n",
       "4                    0.0  "
      ]
     },
     "execution_count": 187,
     "metadata": {},
     "output_type": "execute_result"
    }
   ],
   "source": [
    "df.head()"
   ]
  },
  {
   "cell_type": "code",
   "execution_count": null,
   "metadata": {},
   "outputs": [],
   "source": []
  },
  {
   "cell_type": "code",
   "execution_count": null,
   "metadata": {},
   "outputs": [],
   "source": []
  },
  {
   "cell_type": "code",
   "execution_count": 188,
   "metadata": {},
   "outputs": [
    {
     "ename": "NameError",
     "evalue": "name 'model' is not defined",
     "output_type": "error",
     "traceback": [
      "\u001b[1;31m---------------------------------------------------------------------------\u001b[0m",
      "\u001b[1;31mNameError\u001b[0m                                 Traceback (most recent call last)",
      "\u001b[1;32m<ipython-input-188-7864a277695f>\u001b[0m in \u001b[0;36m<module>\u001b[1;34m\u001b[0m\n\u001b[1;32m----> 1\u001b[1;33m \u001b[0mfig\u001b[0m \u001b[1;33m=\u001b[0m \u001b[0msm\u001b[0m\u001b[1;33m.\u001b[0m\u001b[0mgraphics\u001b[0m\u001b[1;33m.\u001b[0m\u001b[0mqqplot\u001b[0m\u001b[1;33m(\u001b[0m\u001b[0mmodel\u001b[0m\u001b[1;33m.\u001b[0m\u001b[0mresid\u001b[0m\u001b[1;33m,\u001b[0m \u001b[0mdist\u001b[0m\u001b[1;33m=\u001b[0m\u001b[0mstats\u001b[0m\u001b[1;33m.\u001b[0m\u001b[0mnorm\u001b[0m\u001b[1;33m,\u001b[0m \u001b[0mline\u001b[0m\u001b[1;33m=\u001b[0m\u001b[1;34m'45'\u001b[0m\u001b[1;33m,\u001b[0m \u001b[0mfit\u001b[0m\u001b[1;33m=\u001b[0m\u001b[1;32mTrue\u001b[0m\u001b[1;33m)\u001b[0m\u001b[1;33m\u001b[0m\u001b[1;33m\u001b[0m\u001b[0m\n\u001b[0m",
      "\u001b[1;31mNameError\u001b[0m: name 'model' is not defined"
     ]
    }
   ],
   "source": [
    "fig = sm.graphics.qqplot(model.resid, dist=stats.norm, line='45', fit=True)"
   ]
  },
  {
   "cell_type": "markdown",
   "metadata": {},
   "source": [
    "# Model Code"
   ]
  },
  {
   "cell_type": "code",
   "execution_count": 211,
   "metadata": {},
   "outputs": [],
   "source": [
    "X = df[['view', 'waterfront', 'has_basement', 'years_since_renovated', 'grade', 'sqft_living15']]\n",
    "y = df['price']"
   ]
  },
  {
   "cell_type": "code",
   "execution_count": 212,
   "metadata": {},
   "outputs": [],
   "source": [
    "X_train, X_test, y_train, y_test = train_test_split(X, y, test_size=0.20)"
   ]
  },
  {
   "cell_type": "code",
   "execution_count": 213,
   "metadata": {},
   "outputs": [],
   "source": [
    "ols = LinearRegression(fit_intercept=False, normalize=False)"
   ]
  },
  {
   "cell_type": "code",
   "execution_count": 214,
   "metadata": {},
   "outputs": [
    {
     "name": "stdout",
     "output_type": "stream",
     "text": [
      "LinearRegression(copy_X=True, fit_intercept=False, n_jobs=None, normalize=False)\n"
     ]
    }
   ],
   "source": [
    "res = ols.fit(X_train, y_train)\n",
    "print(res)"
   ]
  },
  {
   "cell_type": "code",
   "execution_count": 215,
   "metadata": {},
   "outputs": [
    {
     "data": {
      "text/plain": [
       "0.5074370179188581"
      ]
     },
     "execution_count": 215,
     "metadata": {},
     "output_type": "execute_result"
    }
   ],
   "source": [
    "ols.score(X_train, y_train)"
   ]
  },
  {
   "cell_type": "code",
   "execution_count": 216,
   "metadata": {},
   "outputs": [
    {
     "data": {
      "text/plain": [
       "0.506630698610641"
      ]
     },
     "execution_count": 216,
     "metadata": {},
     "output_type": "execute_result"
    }
   ],
   "source": [
    "ols.score(X_test, y_test)"
   ]
  },
  {
   "cell_type": "markdown",
   "metadata": {},
   "source": [
    "# Test Model"
   ]
  },
  {
   "cell_type": "code",
   "execution_count": 217,
   "metadata": {},
   "outputs": [
    {
     "data": {
      "text/html": [
       "<div>\n",
       "<style scoped>\n",
       "    .dataframe tbody tr th:only-of-type {\n",
       "        vertical-align: middle;\n",
       "    }\n",
       "\n",
       "    .dataframe tbody tr th {\n",
       "        vertical-align: top;\n",
       "    }\n",
       "\n",
       "    .dataframe thead th {\n",
       "        text-align: right;\n",
       "    }\n",
       "</style>\n",
       "<table border=\"1\" class=\"dataframe\">\n",
       "  <thead>\n",
       "    <tr style=\"text-align: right;\">\n",
       "      <th></th>\n",
       "      <th>price</th>\n",
       "      <th>sqft_living</th>\n",
       "      <th>sqft_lot</th>\n",
       "      <th>waterfront</th>\n",
       "      <th>view</th>\n",
       "      <th>grade</th>\n",
       "      <th>lat</th>\n",
       "      <th>long</th>\n",
       "      <th>sqft_living15</th>\n",
       "      <th>sqft_lot15</th>\n",
       "      <th>has_basement</th>\n",
       "      <th>is_cust_build</th>\n",
       "      <th>years_since_renovated</th>\n",
       "    </tr>\n",
       "  </thead>\n",
       "  <tbody>\n",
       "    <tr>\n",
       "      <th>13808</th>\n",
       "      <td>389000.0</td>\n",
       "      <td>7.783224</td>\n",
       "      <td>8.948976</td>\n",
       "      <td>0.0</td>\n",
       "      <td>0.0</td>\n",
       "      <td>7</td>\n",
       "      <td>3.865193</td>\n",
       "      <td>4.806739</td>\n",
       "      <td>7.333023</td>\n",
       "      <td>8.948976</td>\n",
       "      <td>1</td>\n",
       "      <td>0</td>\n",
       "      <td>0.0</td>\n",
       "    </tr>\n",
       "  </tbody>\n",
       "</table>\n",
       "</div>"
      ],
      "text/plain": [
       "          price  sqft_living  sqft_lot  waterfront  view  grade       lat  \\\n",
       "13808  389000.0     7.783224  8.948976         0.0   0.0      7  3.865193   \n",
       "\n",
       "           long  sqft_living15  sqft_lot15  has_basement  is_cust_build  \\\n",
       "13808  4.806739       7.333023    8.948976             1              0   \n",
       "\n",
       "       years_since_renovated  \n",
       "13808                    0.0  "
      ]
     },
     "execution_count": 217,
     "metadata": {},
     "output_type": "execute_result"
    }
   ],
   "source": [
    "x_sample = df.sample(n=1)\n",
    "x_sample"
   ]
  },
  {
   "cell_type": "code",
   "execution_count": 218,
   "metadata": {},
   "outputs": [],
   "source": [
    "def predict_price(x_sample):\n",
    "\n",
    "    cols = ['view', 'waterfront', 'has_basement', 'years_since_renovated', 'grade', 'sqft_living15']\n",
    "    target = 'price'\n",
    "\n",
    "    x_sample_final = x_sample[cols]\n",
    "    return(ols.predict(x_sample_final)[0])\n",
    "\n",
    "def accuracy(sample_price, predicted):\n",
    "    return sample_price - predicted"
   ]
  },
  {
   "cell_type": "code",
   "execution_count": 219,
   "metadata": {},
   "outputs": [
    {
     "name": "stdout",
     "output_type": "stream",
     "text": [
      "459663.38428017305\n",
      "389000.0\n"
     ]
    }
   ],
   "source": [
    "predicted = predict_price(x_sample)\n",
    "print(predicted)\n",
    "\n",
    "sample_price = x_sample.values[0][0]\n",
    "print(sample_price)"
   ]
  },
  {
   "cell_type": "code",
   "execution_count": 220,
   "metadata": {},
   "outputs": [
    {
     "data": {
      "text/plain": [
       "-70663.38"
      ]
     },
     "execution_count": 220,
     "metadata": {},
     "output_type": "execute_result"
    }
   ],
   "source": [
    "round(accuracy(sample_price, predicted), 2)"
   ]
  },
  {
   "cell_type": "code",
   "execution_count": null,
   "metadata": {},
   "outputs": [],
   "source": []
  },
  {
   "cell_type": "markdown",
   "metadata": {},
   "source": [
    "# Okay So Far"
   ]
  },
  {
   "cell_type": "code",
   "execution_count": 176,
   "metadata": {},
   "outputs": [
    {
     "data": {
      "text/plain": [
       "['view',\n",
       " 'waterfront',\n",
       " 'has_basement',\n",
       " 'years_since_renovated',\n",
       " 'grade',\n",
       " 'is_cust_build']"
      ]
     },
     "execution_count": 176,
     "metadata": {},
     "output_type": "execute_result"
    }
   ],
   "source": [
    " ['view', 'waterfront', 'has_basement', 'years_since_renovated', 'grade', 'is_cust_build']"
   ]
  },
  {
   "cell_type": "code",
   "execution_count": 221,
   "metadata": {},
   "outputs": [],
   "source": [
    "# Check residuals"
   ]
  },
  {
   "cell_type": "code",
   "execution_count": null,
   "metadata": {},
   "outputs": [],
   "source": [
    "# drop anything outside of 3stds"
   ]
  }
 ],
 "metadata": {
  "kernelspec": {
   "display_name": "Python 3",
   "language": "python",
   "name": "python3"
  },
  "language_info": {
   "codemirror_mode": {
    "name": "ipython",
    "version": 3
   },
   "file_extension": ".py",
   "mimetype": "text/x-python",
   "name": "python",
   "nbconvert_exporter": "python",
   "pygments_lexer": "ipython3",
   "version": "3.7.6"
  }
 },
 "nbformat": 4,
 "nbformat_minor": 4
}
